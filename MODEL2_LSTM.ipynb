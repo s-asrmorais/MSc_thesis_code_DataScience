{
 "cells": [
  {
   "cell_type": "markdown",
   "id": "dbf7daaf-ffb3-431b-a503-269dfc4facef",
   "metadata": {},
   "source": [
    "### 3.2 - Long Short-Term Memory (LSTM)"
   ]
  },
  {
   "cell_type": "code",
   "execution_count": 1,
   "id": "cf8080b3-d2f9-4644-80a4-d3679be1a2c5",
   "metadata": {},
   "outputs": [
    {
     "name": "stderr",
     "output_type": "stream",
     "text": [
      "C:\\Users\\sofia\\anaconda3\\lib\\site-packages\\statsmodels\\tsa\\base\\tsa_model.py:7: FutureWarning: pandas.Int64Index is deprecated and will be removed from pandas in a future version. Use pandas.Index with the appropriate dtype instead.\n",
      "  from pandas import (to_datetime, Int64Index, DatetimeIndex, Period,\n",
      "C:\\Users\\sofia\\anaconda3\\lib\\site-packages\\statsmodels\\tsa\\base\\tsa_model.py:7: FutureWarning: pandas.Float64Index is deprecated and will be removed from pandas in a future version. Use pandas.Index with the appropriate dtype instead.\n",
      "  from pandas import (to_datetime, Int64Index, DatetimeIndex, Period,\n"
     ]
    }
   ],
   "source": [
    "# Load the packages and other tools\n",
    "import pandas as pd\n",
    "import math\n",
    "import matplotlib.pyplot as plt\n",
    "import matplotlib.dates as mdates\n",
    "import numpy as np\n",
    "import seaborn as sns\n",
    "import statsmodels.api as sm\n",
    "import shap\n",
    "import numpy as np\n",
    "import pickle\n",
    "import tensorflow as tf\n",
    "from datetime import datetime\n",
    "from sklearn import datasets, linear_model\n",
    "from sklearn.model_selection import train_test_split\n",
    "from scipy import stats\n",
    "from sklearn.model_selection import cross_val_score, cross_val_predict\n",
    "from sklearn import metrics\n",
    "from sklearn.model_selection import KFold\n",
    "from scalecast.Forecaster import Forecaster\n",
    "from sklearn.preprocessing import MinMaxScaler\n",
    "from keras.models import Sequential\n",
    "from keras.layers import Dense, Dropout,LSTM\n",
    "from keras import optimizers\n",
    "import warnings\n",
    "warnings.filterwarnings('ignore')\n",
    "%matplotlib inline"
   ]
  },
  {
   "cell_type": "code",
   "execution_count": 2,
   "id": "5a8b0243-e1d2-40bb-9363-3083e6b6abb6",
   "metadata": {},
   "outputs": [],
   "source": [
    "# Reading the model dataset\n",
    "model1 = pd.read_excel('C:/Users/sofia/OneDrive/Desktop/CLSBE/2nd year/Tese/data/model/model.xlsx',index_col=0)"
   ]
  },
  {
   "cell_type": "markdown",
   "id": "be363a27-cbc8-422a-a74b-6da1e4b015d7",
   "metadata": {},
   "source": [
    "* Data preparation:"
   ]
  },
  {
   "cell_type": "code",
   "execution_count": 3,
   "id": "8718fc1c-8e40-4569-b07b-412c6d4b756c",
   "metadata": {},
   "outputs": [
    {
     "name": "stdout",
     "output_type": "stream",
     "text": [
      "1227 train sequences\n",
      "323 test sequences\n",
      "65 validation sequences\n"
     ]
    }
   ],
   "source": [
    "# Splitting 80% for training and 20% for testing\n",
    "train = model1[:-323]\n",
    "len(train)\n",
    "test = model1[-323:]\n",
    "len(test)\n",
    "\n",
    "# Splitting 80% for training and 20% for validation\n",
    "train = train[:-65]\n",
    "len(train)\n",
    "val = train[-65:]\n",
    "len(test)\n",
    "\n",
    "print(len(train), 'train sequences')\n",
    "print(len(test), 'test sequences')\n",
    "print(len(val), 'validation sequences')\n",
    "\n",
    "## Regularization\n",
    "\n",
    "scaler = MinMaxScaler(feature_range=(0,1))\n",
    "scaled_data = scaler.fit_transform(train['lg_price'].values.reshape(-1,1))\n",
    "\n",
    "prediction_days = 323\n",
    "\n",
    "# for training\n",
    "x_train = []\n",
    "y_train = []\n",
    "\n",
    "for x in range(prediction_days, len(scaled_data)):\n",
    "    x_train.append(scaled_data[x-prediction_days:x, 0])\n",
    "    y_train.append(scaled_data[x, 0])\n",
    "x_train1, y_train1 = np.array(x_train), np.array(y_train)\n",
    "\n",
    "\n",
    "# for validation\n",
    "x_valid, x_train, y_valid, y_train = train_test_split(x_train1,y_train1, train_size=0.8)"
   ]
  },
  {
   "cell_type": "markdown",
   "id": "e86c02ae-d37b-48c5-a303-2bf54633be1c",
   "metadata": {},
   "source": [
    "* Build the model"
   ]
  },
  {
   "cell_type": "code",
   "execution_count": 4,
   "id": "77e90313-5342-4e73-89f3-e13938223c5e",
   "metadata": {},
   "outputs": [
    {
     "name": "stdout",
     "output_type": "stream",
     "text": [
      "Model: \"sequential\"\n",
      "_________________________________________________________________\n",
      " Layer (type)                Output Shape              Param #   \n",
      "=================================================================\n",
      " lstm (LSTM)                 (None, 323, 128)          66560     \n",
      "                                                                 \n",
      " dropout (Dropout)           (None, 323, 128)          0         \n",
      "                                                                 \n",
      " lstm_1 (LSTM)               (None, 323, 128)          131584    \n",
      "                                                                 \n",
      " dropout_1 (Dropout)         (None, 323, 128)          0         \n",
      "                                                                 \n",
      " lstm_2 (LSTM)               (None, 128)               131584    \n",
      "                                                                 \n",
      " dropout_2 (Dropout)         (None, 128)               0         \n",
      "                                                                 \n",
      " dense (Dense)               (None, 1)                 129       \n",
      "                                                                 \n",
      "=================================================================\n",
      "Total params: 329,857\n",
      "Trainable params: 329,857\n",
      "Non-trainable params: 0\n",
      "_________________________________________________________________\n",
      "Epoch 1/25\n",
      "23/23 [==============================] - 37s 1s/step - loss: 0.1232 - val_loss: 0.0232\n",
      "Epoch 2/25\n",
      "23/23 [==============================] - 24s 1s/step - loss: 0.0147 - val_loss: 0.0017\n",
      "Epoch 3/25\n",
      "23/23 [==============================] - 26s 1s/step - loss: 0.0077 - val_loss: 0.0024\n",
      "Epoch 4/25\n",
      "23/23 [==============================] - 25s 1s/step - loss: 0.0072 - val_loss: 0.0017\n",
      "Epoch 5/25\n",
      "23/23 [==============================] - 26s 1s/step - loss: 0.0069 - val_loss: 0.0023\n",
      "Epoch 6/25\n",
      "23/23 [==============================] - 25s 1s/step - loss: 0.0071 - val_loss: 0.0021\n",
      "Epoch 7/25\n",
      "23/23 [==============================] - 26s 1s/step - loss: 0.0060 - val_loss: 0.0018\n",
      "Epoch 8/25\n",
      "23/23 [==============================] - 27s 1s/step - loss: 0.0061 - val_loss: 0.0027\n",
      "Epoch 9/25\n",
      "23/23 [==============================] - 26s 1s/step - loss: 0.0064 - val_loss: 0.0020\n",
      "Epoch 10/25\n",
      "23/23 [==============================] - 26s 1s/step - loss: 0.0054 - val_loss: 0.0018\n",
      "Epoch 11/25\n",
      "23/23 [==============================] - 25s 1s/step - loss: 0.0056 - val_loss: 0.0019\n",
      "Epoch 12/25\n",
      "23/23 [==============================] - 24s 1s/step - loss: 0.0056 - val_loss: 0.0017\n",
      "Epoch 13/25\n",
      "23/23 [==============================] - 25s 1s/step - loss: 0.0060 - val_loss: 0.0027\n",
      "Epoch 14/25\n",
      "23/23 [==============================] - 23s 1s/step - loss: 0.0051 - val_loss: 0.0020\n",
      "Epoch 15/25\n",
      "23/23 [==============================] - 25s 1s/step - loss: 0.0059 - val_loss: 0.0045\n",
      "Epoch 16/25\n",
      "23/23 [==============================] - 21s 929ms/step - loss: 0.0059 - val_loss: 0.0016\n",
      "Epoch 17/25\n",
      "23/23 [==============================] - 24s 1s/step - loss: 0.0046 - val_loss: 0.0016\n",
      "Epoch 18/25\n",
      "23/23 [==============================] - 23s 1s/step - loss: 0.0045 - val_loss: 0.0015\n",
      "Epoch 19/25\n",
      "23/23 [==============================] - 23s 1s/step - loss: 0.0050 - val_loss: 0.0048\n",
      "Epoch 20/25\n",
      "23/23 [==============================] - 25s 1s/step - loss: 0.0051 - val_loss: 0.0015\n",
      "Epoch 21/25\n",
      "23/23 [==============================] - 23s 1s/step - loss: 0.0051 - val_loss: 0.0018\n",
      "Epoch 22/25\n",
      "23/23 [==============================] - 25s 1s/step - loss: 0.0047 - val_loss: 0.0027\n",
      "Epoch 23/25\n",
      "23/23 [==============================] - 23s 1s/step - loss: 0.0046 - val_loss: 0.0014\n",
      "Epoch 24/25\n",
      "23/23 [==============================] - 23s 981ms/step - loss: 0.0051 - val_loss: 0.0016\n",
      "Epoch 25/25\n",
      "23/23 [==============================] - 21s 937ms/step - loss: 0.0053 - val_loss: 0.0025\n"
     ]
    }
   ],
   "source": [
    "lstm = Sequential()\n",
    "\n",
    "lstm.add(LSTM(units =128, activation='relu', return_sequences=True, input_shape = (x_train1.shape[1],1)))\n",
    "lstm.add(Dropout(0.2))\n",
    "lstm.add(LSTM(units =128, activation='relu', return_sequences=True))\n",
    "lstm.add(Dropout(0.2))\n",
    "lstm.add(LSTM(units =128, activation='relu', return_sequences=False))\n",
    "lstm.add(Dropout(0.2))\n",
    "lstm.add(Dense(units=1)) # Prediction of the next value\n",
    "\n",
    "lstm.compile(optimizer='adam', loss='mean_squared_error')\n",
    "lstm.summary()\n",
    "\n",
    "history = lstm.fit(x_train1, y_train1, epochs = 25, batch_size=32, validation_split=0.2)"
   ]
  },
  {
   "cell_type": "code",
   "execution_count": 15,
   "id": "e5d4bb8a-4e5e-4c9e-8ca1-839cd43edce1",
   "metadata": {},
   "outputs": [
    {
     "name": "stdout",
     "output_type": "stream",
     "text": [
      "INFO:tensorflow:Assets written to: lstm_model\\assets\n"
     ]
    }
   ],
   "source": [
    "#lstm.save('lstm_model')"
   ]
  },
  {
   "cell_type": "code",
   "execution_count": 16,
   "id": "2c8b02ca-cdc6-46a7-b85b-2dda2dce890c",
   "metadata": {},
   "outputs": [],
   "source": [
    "from keras.models import load_model\n",
    "lstm = load_model('lstm_model')"
   ]
  },
  {
   "cell_type": "code",
   "execution_count": 10,
   "id": "0a0a3e46-61e0-4e73-9d73-24896432893b",
   "metadata": {},
   "outputs": [
    {
     "data": {
      "image/png": "[encoded data removed]",
      "text/plain": [
       "<Figure size 432x288 with 1 Axes>"
      ]
     },
     "metadata": {
      "needs_background": "light"
     },
     "output_type": "display_data"
    }
   ],
   "source": [
    "loss = history.history['loss']\n",
    "val_loss = history.history['val_loss']\n",
    "\n",
    "epochs= range(1,26)\n",
    "\n",
    "TL=plt.plot(epochs, loss, 'bo', label='Training loss')\n",
    "VL=plt.plot(epochs, val_loss, 'b', label='Validation loss',color='orange')\n",
    "plt.title('Training and validation loss')\n",
    "plt.xlabel('Number of epochs')\n",
    "plt.ylabel('Loss')\n",
    "plt.legend(['Training loss', 'Validation loss'])\n",
    "plt.savefig('C:/Users/sofia/OneDrive/Desktop/CLSBE/2nd year/Tese/Figuras/trainVSvalid.jpeg')\n",
    "plt.show()"
   ]
  },
  {
   "cell_type": "markdown",
   "id": "92826bc1-dc61-4577-bcb5-2ec3c2ece335",
   "metadata": {},
   "source": [
    "*The plot shows that the training operation becomes stable after the second epoch time.*"
   ]
  },
  {
   "cell_type": "markdown",
   "id": "9af4b1ad-567c-42e7-986b-4ef28920b824",
   "metadata": {},
   "source": [
    "* Prediction"
   ]
  },
  {
   "cell_type": "code",
   "execution_count": 11,
   "id": "de1c2ab1-3b24-4902-9b3f-c5d0e6a2a3f3",
   "metadata": {},
   "outputs": [
    {
     "name": "stdout",
     "output_type": "stream",
     "text": [
      "[[8.939522 ]\n",
      " [8.951289 ]\n",
      " [8.961153 ]\n",
      " [8.9692135]\n",
      " [8.975661 ]]\n"
     ]
    }
   ],
   "source": [
    "actual_price = test['lg_price'].values\n",
    "total_price = pd.concat((train['lg_price'], test['lg_price']),axis=0)\n",
    "\n",
    "model_inputs = total_price[len(total_price)-len(test)-prediction_days:].values\n",
    "model_inputs = model_inputs.reshape(-1,1)\n",
    "model_inputs = scaler.transform(model_inputs)\n",
    "\n",
    "\n",
    "# Make Predictions on Test Data\n",
    "x_test = []\n",
    "\n",
    "for x in range(prediction_days, len(model_inputs)):\n",
    "    x_test.append(model_inputs[x-prediction_days:x, 0])\n",
    "\n",
    "x_test1 = np.array(x_test)\n",
    "x_test2 = np.reshape(x_test1, (x_test1.shape[0], x_test1.shape[1], 1))\n",
    "\n",
    "# Predicting the values for lg_price\n",
    "pred = lstm.predict(x_test2)\n",
    "pred = scaler.inverse_transform(pred)\n",
    "print(pred[:5]) # Printing lg_price for the next 5 day to check if the values make sense"
   ]
  },
  {
   "cell_type": "markdown",
   "id": "9ac1a08e-2e0b-4898-930f-f9cbc01019af",
   "metadata": {},
   "source": [
    "* Evaluation"
   ]
  },
  {
   "cell_type": "code",
   "execution_count": 19,
   "id": "e12cf6d3-e288-4530-a26c-5ab658f2e845",
   "metadata": {},
   "outputs": [
    {
     "data": {
      "image/png": "[encoded data removed]",
      "text/plain": [
       "<Figure size 576x432 with 1 Axes>"
      ]
     },
     "metadata": {
      "needs_background": "light"
     },
     "output_type": "display_data"
    }
   ],
   "source": [
    "# Plotting the Predicted Bitcin price VS True Bitcoin price for the predicted period of time\n",
    "original_test=model1.iloc[-323:,0]\n",
    "date = original_test.index\n",
    "fig, ax = plt.subplots(figsize=(8, 6))\n",
    "year_locator = mdates.YearLocator()\n",
    "ax.xaxis.set_major_locator(year_locator) # Locator for major axis only.\n",
    "plt.plot(date, pred)\n",
    "plt.plot(date, original_test,color='orange')\n",
    "plt.title('Predicted values VS True values for the predicted period of time')\n",
    "plt.xlabel('Years')\n",
    "plt.ylabel('Logarithm of Bitcoin price')\n",
    "plt.legend(['Predicted', 'True'])\n",
    "\n",
    "# Setting the background color of the plot to white\n",
    "ax.set_facecolor(\"white\")\n",
    "ax.spines['left'].set_color('black') \n",
    "ax.spines['top'].set_color('black')\n",
    "ax.spines['bottom'].set_color('black')\n",
    "ax.spines['right'].set_color('black')\n",
    "\n",
    "#plt.savefig('C:/Users/sofia/OneDrive/Desktop/CLSBE/2nd year/Tese/Figuras/originalVSpred.jpeg')\n",
    "plt.show()"
   ]
  },
  {
   "cell_type": "markdown",
   "id": "05902736-fcba-4f00-981c-3c0520014002",
   "metadata": {},
   "source": [
    "*Therefore, in this case, LSTM leads to slightly undervalued predictions most of the time.*"
   ]
  },
  {
   "cell_type": "code",
   "execution_count": 13,
   "id": "8c5ee5c4-89b9-4ee0-852d-150d4d612232",
   "metadata": {},
   "outputs": [
    {
     "name": "stdout",
     "output_type": "stream",
     "text": [
      "Mean Square Error:  0.08255875849160962\n",
      "Root Mean Square Error:  0.28733039952571954\n",
      "sMAPE:  25.111597930762525\n",
      "R^2 score:  0.8163099970619727\n"
     ]
    }
   ],
   "source": [
    "from sklearn.metrics import mean_squared_error\n",
    "\n",
    "# 1. MSE - Mean Squared Error\n",
    "MSE = mean_squared_error(actual_price,pred)\n",
    "print(\"Mean Square Error: \", MSE)\n",
    "\n",
    "# 2. RMSE - Root Mean Square Error\n",
    "RMSE = math.sqrt(MSE)\n",
    "print(\"Root Mean Square Error: \", RMSE)\n",
    "\n",
    "# 3. sMAPE - symmetric Mean Absolute Percentage Error\n",
    "def smape(a, f):\n",
    "    return 1/len(a) * np.sum(2 * np.abs(f-a) / (np.abs(a) + np.abs(f)))\n",
    "sMAPE=smape(actual_price,pred)\n",
    "print('sMAPE: ',sMAPE)\n",
    "\n",
    "# 4. R^2 score\n",
    "r2_score = metrics.r2_score(actual_price,pred)\n",
    "print('R^2 score: ',r2_score)"
   ]
  },
  {
   "cell_type": "code",
   "execution_count": 17,
   "id": "bc3bd21a-52e3-46f2-8610-4d5b4bd1b781",
   "metadata": {},
   "outputs": [
    {
     "data": {
      "text/html": [
       "<div>\n",
       "<style scoped>\n",
       "    .dataframe tbody tr th:only-of-type {\n",
       "        vertical-align: middle;\n",
       "    }\n",
       "\n",
       "    .dataframe tbody tr th {\n",
       "        vertical-align: top;\n",
       "    }\n",
       "\n",
       "    .dataframe thead th {\n",
       "        text-align: right;\n",
       "    }\n",
       "</style>\n",
       "<table border=\"1\" class=\"dataframe\">\n",
       "  <thead>\n",
       "    <tr style=\"text-align: right;\">\n",
       "      <th></th>\n",
       "      <th>Model</th>\n",
       "      <th>MSE</th>\n",
       "      <th>RMSE</th>\n",
       "      <th>sMAPE</th>\n",
       "      <th>R^2 score</th>\n",
       "    </tr>\n",
       "  </thead>\n",
       "  <tbody>\n",
       "    <tr>\n",
       "      <th>0</th>\n",
       "      <td>GLS</td>\n",
       "      <td>0.016803</td>\n",
       "      <td>0.129628</td>\n",
       "      <td>0.009797</td>\n",
       "      <td>0.962613</td>\n",
       "    </tr>\n",
       "  </tbody>\n",
       "</table>\n",
       "</div>"
      ],
      "text/plain": [
       "  Model       MSE      RMSE     sMAPE  R^2 score\n",
       "0   GLS  0.016803  0.129628  0.009797   0.962613"
      ]
     },
     "execution_count": 17,
     "metadata": {},
     "output_type": "execute_result"
    }
   ],
   "source": [
    "metric=pd.read_excel('C:/Users/sofia/OneDrive/Desktop/CLSBE/2nd year/Tese/data/metrics/metrics.xlsx',index_col=0)\n",
    "metric.head(3)"
   ]
  },
  {
   "cell_type": "code",
   "execution_count": 18,
   "id": "aea489cb-d7b4-4821-b83d-fd1bc2acd368",
   "metadata": {},
   "outputs": [
    {
     "data": {
      "text/html": [
       "<div>\n",
       "<style scoped>\n",
       "    .dataframe tbody tr th:only-of-type {\n",
       "        vertical-align: middle;\n",
       "    }\n",
       "\n",
       "    .dataframe tbody tr th {\n",
       "        vertical-align: top;\n",
       "    }\n",
       "\n",
       "    .dataframe thead th {\n",
       "        text-align: right;\n",
       "    }\n",
       "</style>\n",
       "<table border=\"1\" class=\"dataframe\">\n",
       "  <thead>\n",
       "    <tr style=\"text-align: right;\">\n",
       "      <th></th>\n",
       "      <th>Model</th>\n",
       "      <th>MSE</th>\n",
       "      <th>RMSE</th>\n",
       "      <th>sMAPE</th>\n",
       "      <th>R^2 score</th>\n",
       "    </tr>\n",
       "  </thead>\n",
       "  <tbody>\n",
       "    <tr>\n",
       "      <th>0</th>\n",
       "      <td>GLS</td>\n",
       "      <td>0.016803</td>\n",
       "      <td>0.129628</td>\n",
       "      <td>0.009797</td>\n",
       "      <td>0.962613</td>\n",
       "    </tr>\n",
       "    <tr>\n",
       "      <th>1</th>\n",
       "      <td>LSTM</td>\n",
       "      <td>0.082559</td>\n",
       "      <td>0.287330</td>\n",
       "      <td>25.111598</td>\n",
       "      <td>0.816310</td>\n",
       "    </tr>\n",
       "  </tbody>\n",
       "</table>\n",
       "</div>"
      ],
      "text/plain": [
       "  Model       MSE      RMSE      sMAPE  R^2 score\n",
       "0   GLS  0.016803  0.129628   0.009797   0.962613\n",
       "1  LSTM  0.082559  0.287330  25.111598   0.816310"
      ]
     },
     "execution_count": 18,
     "metadata": {},
     "output_type": "execute_result"
    }
   ],
   "source": [
    "# Defining a dictionary\n",
    "d = {'Model': 'LSTM','MSE': MSE,'RMSE':RMSE,'sMAPE':sMAPE,'R^2 score': r2_score}\n",
    "\n",
    "# Adding the most recent results to the existing dataframe\n",
    "metric = metric.append(d, ignore_index=True)\n",
    "metric.to_excel('C:/Users/sofia/OneDrive/Desktop/CLSBE/2nd year/Tese/data/metrics/metrics.xlsx')\n",
    "metric"
   ]
  },
  {
   "cell_type": "markdown",
   "id": "b68cec04-2bdc-4ffc-aba2-9280831b4c77",
   "metadata": {},
   "source": [
    "* Other metrics to compare with other models in the literature"
   ]
  },
  {
   "cell_type": "code",
   "execution_count": 20,
   "id": "52cfcbf2-0239-4639-948f-a0ea0dec6170",
   "metadata": {},
   "outputs": [
    {
     "data": {
      "text/plain": [
       "0.07611287838539045"
      ]
     },
     "execution_count": 20,
     "metadata": {},
     "output_type": "execute_result"
    }
   ],
   "source": [
    "# MAPE\n",
    "\n",
    "MAPE = np.mean(np.abs((actual_price - pred) / actual_price))\n",
    "MAPE"
   ]
  },
  {
   "cell_type": "code",
   "execution_count": 21,
   "id": "62e51dd6-3f9e-482e-a1db-0f5bcf808a14",
   "metadata": {},
   "outputs": [
    {
     "name": "stdout",
     "output_type": "stream",
     "text": [
      "RMSE in dollars: 1.3328645185381518\n"
     ]
    }
   ],
   "source": [
    "RMSE_dollars=math.e**RMSE\n",
    "\n",
    "print(\"RMSE in dollars:\",RMSE_dollars )"
   ]
  },
  {
   "cell_type": "code",
   "execution_count": null,
   "id": "a611ddcc-d5c3-4cb0-809e-259759dc6b05",
   "metadata": {},
   "outputs": [],
   "source": []
  }
 ],
 "metadata": {
  "kernelspec": {
   "display_name": "Python 3",
   "language": "python",
   "name": "python3"
  },
  "language_info": {
   "codemirror_mode": {
    "name": "ipython",
    "version": 3
   },
   "file_extension": ".py",
   "mimetype": "text/x-python",
   "name": "python",
   "nbconvert_exporter": "python",
   "pygments_lexer": "ipython3",
   "version": "3.8.8"
  }
 },
 "nbformat": 4,
 "nbformat_minor": 5
}
