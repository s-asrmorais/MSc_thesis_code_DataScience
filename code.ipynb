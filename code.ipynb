{
 "cells": [
  {
   "cell_type": "markdown",
   "id": "e3d70521-a02e-470e-bc43-377e7e415ffa",
   "metadata": {},
   "source": [
    "# Master's thesis code"
   ]
  },
  {
   "cell_type": "markdown",
   "id": "d92be161-bb05-4a29-b9f5-b3c7dee551dc",
   "metadata": {},
   "source": [
    "**Sofia Morais - 152021001**"
   ]
  },
  {
   "cell_type": "code",
   "execution_count": 246,
   "id": "bd5294ce-a136-48c9-aaf5-f0812c223cec",
   "metadata": {},
   "outputs": [],
   "source": [
    "# Load the packages\n",
    "import pandas as pd\n",
    "import math\n",
    "import matplotlib.pyplot as plt\n",
    "import matplotlib.dates as mdates\n",
    "import numpy as np\n",
    "import seaborn as sns\n",
    "import statsmodels.api as sm\n",
    "import shap\n",
    "import numpy as np\n",
    "import pickle\n",
    "from datetime import datetime\n",
    "from sklearn import datasets, linear_model\n",
    "from sklearn.model_selection import train_test_split\n",
    "from scipy import stats\n",
    "from sklearn.model_selection import cross_val_score, cross_val_predict\n",
    "from sklearn import metrics\n",
    "from sklearn.model_selection import KFold\n",
    "from scalecast.Forecaster import Forecaster\n",
    "from sklearn.preprocessing import MinMaxScaler\n",
    "import tensorflow as tf\n",
    "from tensorflow import keras\n",
    "from tensorflow.keras.models import Sequential\n",
    "from tensorflow.keras.layers import Dense, Dropout, LSTM"
   ]
  },
  {
   "cell_type": "markdown",
   "id": "8ef8f18a-9729-4ea9-9353-0d3f05338a8e",
   "metadata": {},
   "source": [
    "## 1. DATA PREPARATION"
   ]
  },
  {
   "cell_type": "markdown",
   "id": "84a06b2c-58ec-40c6-8c1d-a4ec9798d748",
   "metadata": {},
   "source": [
    "### 1.1 Creating the new dataset"
   ]
  },
  {
   "cell_type": "code",
   "execution_count": 171,
   "id": "bb058095-77ce-4dd2-9aaa-489619715d23",
   "metadata": {},
   "outputs": [
    {
     "data": {
      "text/html": [
       "<div>\n",
       "<style scoped>\n",
       "    .dataframe tbody tr th:only-of-type {\n",
       "        vertical-align: middle;\n",
       "    }\n",
       "\n",
       "    .dataframe tbody tr th {\n",
       "        vertical-align: top;\n",
       "    }\n",
       "\n",
       "    .dataframe thead th {\n",
       "        text-align: right;\n",
       "    }\n",
       "</style>\n",
       "<table border=\"1\" class=\"dataframe\">\n",
       "  <thead>\n",
       "    <tr style=\"text-align: right;\">\n",
       "      <th></th>\n",
       "      <th>market-price</th>\n",
       "      <th>market-cap</th>\n",
       "      <th>trade-volume</th>\n",
       "      <th>transaction-fees-usd</th>\n",
       "      <th>avg-confirmation-time</th>\n",
       "      <th>difficulty</th>\n",
       "      <th>High</th>\n",
       "      <th>Low</th>\n",
       "      <th>hash-rate</th>\n",
       "      <th>block-size</th>\n",
       "      <th>...</th>\n",
       "      <th>n-transactions-total</th>\n",
       "      <th>Popularity</th>\n",
       "      <th>Open</th>\n",
       "      <th>n-payments-per-block</th>\n",
       "      <th>Total-circulating-BTC</th>\n",
       "      <th>cost-per-transaction-percent</th>\n",
       "      <th>fees-usd-per-transaction</th>\n",
       "      <th>n-unique-addresses</th>\n",
       "      <th>n-transactions-per-block</th>\n",
       "      <th>output-volume</th>\n",
       "    </tr>\n",
       "    <tr>\n",
       "      <th>Timestamp</th>\n",
       "      <th></th>\n",
       "      <th></th>\n",
       "      <th></th>\n",
       "      <th></th>\n",
       "      <th></th>\n",
       "      <th></th>\n",
       "      <th></th>\n",
       "      <th></th>\n",
       "      <th></th>\n",
       "      <th></th>\n",
       "      <th></th>\n",
       "      <th></th>\n",
       "      <th></th>\n",
       "      <th></th>\n",
       "      <th></th>\n",
       "      <th></th>\n",
       "      <th></th>\n",
       "      <th></th>\n",
       "      <th></th>\n",
       "      <th></th>\n",
       "      <th></th>\n",
       "    </tr>\n",
       "  </thead>\n",
       "  <tbody>\n",
       "    <tr>\n",
       "      <th>2017-01-01</th>\n",
       "      <td>1013.42</td>\n",
       "      <td>1.651285e+10</td>\n",
       "      <td>4.765228e+06</td>\n",
       "      <td>114872.988609</td>\n",
       "      <td>13.016229</td>\n",
       "      <td>3.176884e+11</td>\n",
       "      <td>1013.42</td>\n",
       "      <td>956.10</td>\n",
       "      <td>2.589950e+06</td>\n",
       "      <td>97293.875547</td>\n",
       "      <td>...</td>\n",
       "      <td>183961799.0</td>\n",
       "      <td>43</td>\n",
       "      <td>963.4</td>\n",
       "      <td>0.0</td>\n",
       "      <td>1808.982832</td>\n",
       "      <td>0.757827</td>\n",
       "      <td>0.288061</td>\n",
       "      <td>468609.6</td>\n",
       "      <td>272924.100000</td>\n",
       "      <td>1.693024e+06</td>\n",
       "    </tr>\n",
       "    <tr>\n",
       "      <th>2017-01-02</th>\n",
       "      <td>1013.42</td>\n",
       "      <td>1.651285e+10</td>\n",
       "      <td>4.765228e+06</td>\n",
       "      <td>114872.988609</td>\n",
       "      <td>97.413264</td>\n",
       "      <td>3.176884e+11</td>\n",
       "      <td>1031.70</td>\n",
       "      <td>990.20</td>\n",
       "      <td>2.589950e+06</td>\n",
       "      <td>97293.875547</td>\n",
       "      <td>...</td>\n",
       "      <td>183961799.0</td>\n",
       "      <td>74</td>\n",
       "      <td>995.4</td>\n",
       "      <td>0.0</td>\n",
       "      <td>1808.982832</td>\n",
       "      <td>0.726644</td>\n",
       "      <td>0.288061</td>\n",
       "      <td>468609.6</td>\n",
       "      <td>272924.100000</td>\n",
       "      <td>1.693024e+06</td>\n",
       "    </tr>\n",
       "    <tr>\n",
       "      <th>2017-01-03</th>\n",
       "      <td>1013.42</td>\n",
       "      <td>1.651285e+10</td>\n",
       "      <td>4.765228e+06</td>\n",
       "      <td>114872.988609</td>\n",
       "      <td>16.441754</td>\n",
       "      <td>3.176884e+11</td>\n",
       "      <td>1035.50</td>\n",
       "      <td>1006.50</td>\n",
       "      <td>2.589950e+06</td>\n",
       "      <td>97293.875547</td>\n",
       "      <td>...</td>\n",
       "      <td>183961799.0</td>\n",
       "      <td>69</td>\n",
       "      <td>1017.0</td>\n",
       "      <td>0.0</td>\n",
       "      <td>1808.982832</td>\n",
       "      <td>0.718670</td>\n",
       "      <td>0.288061</td>\n",
       "      <td>468609.6</td>\n",
       "      <td>272924.100000</td>\n",
       "      <td>1.693024e+06</td>\n",
       "    </tr>\n",
       "    <tr>\n",
       "      <th>2017-01-04</th>\n",
       "      <td>999.65</td>\n",
       "      <td>1.758021e+10</td>\n",
       "      <td>5.857834e+06</td>\n",
       "      <td>114872.988609</td>\n",
       "      <td>37.127815</td>\n",
       "      <td>3.176884e+11</td>\n",
       "      <td>1148.50</td>\n",
       "      <td>999.65</td>\n",
       "      <td>2.542573e+06</td>\n",
       "      <td>97743.656720</td>\n",
       "      <td>...</td>\n",
       "      <td>183961799.0</td>\n",
       "      <td>79</td>\n",
       "      <td>1033.3</td>\n",
       "      <td>0.0</td>\n",
       "      <td>1830.788898</td>\n",
       "      <td>0.668387</td>\n",
       "      <td>0.307901</td>\n",
       "      <td>488315.4</td>\n",
       "      <td>276578.033333</td>\n",
       "      <td>1.797751e+06</td>\n",
       "    </tr>\n",
       "    <tr>\n",
       "      <th>2017-01-05</th>\n",
       "      <td>999.65</td>\n",
       "      <td>1.758021e+10</td>\n",
       "      <td>5.857834e+06</td>\n",
       "      <td>121958.044759</td>\n",
       "      <td>17.147923</td>\n",
       "      <td>3.176884e+11</td>\n",
       "      <td>1150.60</td>\n",
       "      <td>874.50</td>\n",
       "      <td>2.147763e+06</td>\n",
       "      <td>97743.656720</td>\n",
       "      <td>...</td>\n",
       "      <td>184884526.0</td>\n",
       "      <td>100</td>\n",
       "      <td>1135.4</td>\n",
       "      <td>0.0</td>\n",
       "      <td>1830.788898</td>\n",
       "      <td>0.705463</td>\n",
       "      <td>0.307901</td>\n",
       "      <td>488315.4</td>\n",
       "      <td>276578.033333</td>\n",
       "      <td>1.797751e+06</td>\n",
       "    </tr>\n",
       "  </tbody>\n",
       "</table>\n",
       "<p>5 rows × 21 columns</p>\n",
       "</div>"
      ],
      "text/plain": [
       "            market-price    market-cap  trade-volume  transaction-fees-usd  \\\n",
       "Timestamp                                                                    \n",
       "2017-01-01       1013.42  1.651285e+10  4.765228e+06         114872.988609   \n",
       "2017-01-02       1013.42  1.651285e+10  4.765228e+06         114872.988609   \n",
       "2017-01-03       1013.42  1.651285e+10  4.765228e+06         114872.988609   \n",
       "2017-01-04        999.65  1.758021e+10  5.857834e+06         114872.988609   \n",
       "2017-01-05        999.65  1.758021e+10  5.857834e+06         121958.044759   \n",
       "\n",
       "            avg-confirmation-time    difficulty     High      Low  \\\n",
       "Timestamp                                                           \n",
       "2017-01-01              13.016229  3.176884e+11  1013.42   956.10   \n",
       "2017-01-02              97.413264  3.176884e+11  1031.70   990.20   \n",
       "2017-01-03              16.441754  3.176884e+11  1035.50  1006.50   \n",
       "2017-01-04              37.127815  3.176884e+11  1148.50   999.65   \n",
       "2017-01-05              17.147923  3.176884e+11  1150.60   874.50   \n",
       "\n",
       "               hash-rate    block-size  ...  n-transactions-total  Popularity  \\\n",
       "Timestamp                               ...                                     \n",
       "2017-01-01  2.589950e+06  97293.875547  ...           183961799.0          43   \n",
       "2017-01-02  2.589950e+06  97293.875547  ...           183961799.0          74   \n",
       "2017-01-03  2.589950e+06  97293.875547  ...           183961799.0          69   \n",
       "2017-01-04  2.542573e+06  97743.656720  ...           183961799.0          79   \n",
       "2017-01-05  2.147763e+06  97743.656720  ...           184884526.0         100   \n",
       "\n",
       "              Open  n-payments-per-block  Total-circulating-BTC  \\\n",
       "Timestamp                                                         \n",
       "2017-01-01   963.4                   0.0            1808.982832   \n",
       "2017-01-02   995.4                   0.0            1808.982832   \n",
       "2017-01-03  1017.0                   0.0            1808.982832   \n",
       "2017-01-04  1033.3                   0.0            1830.788898   \n",
       "2017-01-05  1135.4                   0.0            1830.788898   \n",
       "\n",
       "            cost-per-transaction-percent  fees-usd-per-transaction  \\\n",
       "Timestamp                                                            \n",
       "2017-01-01                      0.757827                  0.288061   \n",
       "2017-01-02                      0.726644                  0.288061   \n",
       "2017-01-03                      0.718670                  0.288061   \n",
       "2017-01-04                      0.668387                  0.307901   \n",
       "2017-01-05                      0.705463                  0.307901   \n",
       "\n",
       "            n-unique-addresses  n-transactions-per-block  output-volume  \n",
       "Timestamp                                                                \n",
       "2017-01-01            468609.6             272924.100000   1.693024e+06  \n",
       "2017-01-02            468609.6             272924.100000   1.693024e+06  \n",
       "2017-01-03            468609.6             272924.100000   1.693024e+06  \n",
       "2017-01-04            488315.4             276578.033333   1.797751e+06  \n",
       "2017-01-05            488315.4             276578.033333   1.797751e+06  \n",
       "\n",
       "[5 rows x 21 columns]"
      ]
     },
     "execution_count": 171,
     "metadata": {},
     "output_type": "execute_result"
    }
   ],
   "source": [
    "# Import the original dataset and save it as \"original\"\n",
    "original = pd.read_excel('C:/Users/sofia/OneDrive/Desktop/CLSBE/2nd year/Tese/data/original/original.xlsx', header=1,index_col=0)\n",
    "\n",
    "# Data transformation\n",
    "original.index.name='Timestamp'\n",
    "original = original.rename(columns={'google': 'Popularity'})\n",
    "original = original.rename(columns={'n-transactions-per-block': 'Total-circulating-BTC'}) # correct the name of one variable\n",
    "original = original.rename(columns={'n-transactions-per-block.1': 'n-transactions-per-block'}) # correct the name of one variable\n",
    "original.drop(original.columns[-21:], axis=1, inplace=True) # Delete the columns that you will not use\n",
    "original.head() # Check the first observations"
   ]
  },
  {
   "cell_type": "code",
   "execution_count": 172,
   "id": "d79c02dd-15c2-4260-a9ff-84909d63f614",
   "metadata": {},
   "outputs": [
    {
     "data": {
      "text/html": [
       "<div>\n",
       "<style scoped>\n",
       "    .dataframe tbody tr th:only-of-type {\n",
       "        vertical-align: middle;\n",
       "    }\n",
       "\n",
       "    .dataframe tbody tr th {\n",
       "        vertical-align: top;\n",
       "    }\n",
       "\n",
       "    .dataframe thead th {\n",
       "        text-align: right;\n",
       "    }\n",
       "</style>\n",
       "<table border=\"1\" class=\"dataframe\">\n",
       "  <thead>\n",
       "    <tr style=\"text-align: right;\">\n",
       "      <th></th>\n",
       "      <th>Value</th>\n",
       "    </tr>\n",
       "    <tr>\n",
       "      <th>TIME</th>\n",
       "      <th></th>\n",
       "    </tr>\n",
       "  </thead>\n",
       "  <tbody>\n",
       "    <tr>\n",
       "      <th>2017-01</th>\n",
       "      <td>100.5115</td>\n",
       "    </tr>\n",
       "    <tr>\n",
       "      <th>2017-02</th>\n",
       "      <td>100.5401</td>\n",
       "    </tr>\n",
       "    <tr>\n",
       "      <th>2017-03</th>\n",
       "      <td>100.6480</td>\n",
       "    </tr>\n",
       "    <tr>\n",
       "      <th>2017-04</th>\n",
       "      <td>100.7638</td>\n",
       "    </tr>\n",
       "    <tr>\n",
       "      <th>2017-05</th>\n",
       "      <td>100.8411</td>\n",
       "    </tr>\n",
       "  </tbody>\n",
       "</table>\n",
       "</div>"
      ],
      "text/plain": [
       "            Value\n",
       "TIME             \n",
       "2017-01  100.5115\n",
       "2017-02  100.5401\n",
       "2017-03  100.6480\n",
       "2017-04  100.7638\n",
       "2017-05  100.8411"
      ]
     },
     "execution_count": 172,
     "metadata": {},
     "output_type": "execute_result"
    }
   ],
   "source": [
    "# Import the confidence index dataset and save it\n",
    "confidence = pd.read_csv('C:/Users/sofia/OneDrive/Desktop/CLSBE/2nd year/Tese/data/add_new_variables/consumer confidence index.csv',index_col='TIME')\n",
    "\n",
    "# Data transformation\n",
    "confidence= confidence[confidence[\"LOCATION\"].str.contains(\"OECD\")==True]\n",
    "confidence= confidence[confidence[\"LOCATION\"].str.contains(\"OECDE\")==False]\n",
    "confidence= confidence.drop(['LOCATION','INDICATOR','SUBJECT','MEASURE','FREQUENCY','Flag Codes'], axis='columns')\n",
    "\n",
    "# Delete the the rows that you will not use\n",
    "for i in confidence.index:\n",
    "    if i>'2021-06':\n",
    "        confidence=confidence.drop(i)\n",
    "    continue\n",
    "\n",
    "# Check the last values to make sure that you the previous code worked\n",
    "confidence.head()"
   ]
  },
  {
   "cell_type": "code",
   "execution_count": 173,
   "id": "a649aa00-a46f-4324-824c-1a93d9101111",
   "metadata": {},
   "outputs": [
    {
     "name": "stderr",
     "output_type": "stream",
     "text": [
      "<ipython-input-173-2a55fca83ce8>:8: SettingWithCopyWarning: \n",
      "A value is trying to be set on a copy of a slice from a DataFrame\n",
      "\n",
      "See the caveats in the documentation: https://pandas.pydata.org/pandas-docs/stable/user_guide/indexing.html#returning-a-view-versus-a-copy\n",
      "  original['Confidence'][i]=confidence['Value'][j]\n",
      "C:\\Users\\sofia\\anaconda3\\lib\\site-packages\\pandas\\core\\indexing.py:1637: SettingWithCopyWarning: \n",
      "A value is trying to be set on a copy of a slice from a DataFrame\n",
      "\n",
      "See the caveats in the documentation: https://pandas.pydata.org/pandas-docs/stable/user_guide/indexing.html#returning-a-view-versus-a-copy\n",
      "  self._setitem_single_block(indexer, value, name)\n"
     ]
    },
    {
     "data": {
      "text/plain": [
       "Timestamp\n",
       "2017-01-01    100.5115\n",
       "2017-01-02    100.5115\n",
       "2017-01-03    100.5115\n",
       "2017-01-04    100.5115\n",
       "2017-01-05    100.5115\n",
       "2017-01-06    100.5115\n",
       "2017-01-07    100.5115\n",
       "2017-01-08    100.5115\n",
       "2017-01-09    100.5115\n",
       "2017-01-10    100.5115\n",
       "2017-01-11    100.5115\n",
       "2017-01-12    100.5115\n",
       "2017-01-13    100.5115\n",
       "2017-01-14    100.5115\n",
       "2017-01-15    100.5115\n",
       "2017-01-16    100.5115\n",
       "2017-01-17    100.5115\n",
       "2017-01-18    100.5115\n",
       "2017-01-19    100.5115\n",
       "2017-01-20    100.5115\n",
       "2017-01-21    100.5115\n",
       "2017-01-22    100.5115\n",
       "2017-01-23    100.5115\n",
       "2017-01-24    100.5115\n",
       "2017-01-25    100.5115\n",
       "2017-01-26    100.5115\n",
       "2017-01-27    100.5115\n",
       "2017-01-28    100.5115\n",
       "2017-01-29    100.5115\n",
       "2017-01-30    100.5115\n",
       "2017-01-31    100.5115\n",
       "2017-02-01    100.5401\n",
       "Name: Confidence, dtype: object"
      ]
     },
     "execution_count": 173,
     "metadata": {},
     "output_type": "execute_result"
    }
   ],
   "source": [
    "# Create an empty column\n",
    "original['Confidence']=''\n",
    "\n",
    "# Add the confidence index variable to the original dataset\n",
    "for i in original.index.strftime('%Y-%m'):\n",
    "    for j in confidence.index:\n",
    "        if i==j:\n",
    "            original['Confidence'][i]=confidence['Value'][j]\n",
    "    continue\n",
    "original['Confidence'].head(32) #check the values between the first 2 months to guarantee that the values were  copied"
   ]
  },
  {
   "cell_type": "code",
   "execution_count": 174,
   "id": "12e5adcc-97d3-45b1-852d-ccdf26b7a1ca",
   "metadata": {},
   "outputs": [
    {
     "data": {
      "text/html": [
       "<div>\n",
       "<style scoped>\n",
       "    .dataframe tbody tr th:only-of-type {\n",
       "        vertical-align: middle;\n",
       "    }\n",
       "\n",
       "    .dataframe tbody tr th {\n",
       "        vertical-align: top;\n",
       "    }\n",
       "\n",
       "    .dataframe thead th {\n",
       "        text-align: right;\n",
       "    }\n",
       "</style>\n",
       "<table border=\"1\" class=\"dataframe\">\n",
       "  <thead>\n",
       "    <tr style=\"text-align: right;\">\n",
       "      <th></th>\n",
       "      <th>Price</th>\n",
       "    </tr>\n",
       "    <tr>\n",
       "      <th>Timestamp</th>\n",
       "      <th></th>\n",
       "    </tr>\n",
       "  </thead>\n",
       "  <tbody>\n",
       "    <tr>\n",
       "      <th>2017-01</th>\n",
       "      <td>1192.10</td>\n",
       "    </tr>\n",
       "    <tr>\n",
       "      <th>2017-02</th>\n",
       "      <td>1234.20</td>\n",
       "    </tr>\n",
       "    <tr>\n",
       "      <th>2017-03</th>\n",
       "      <td>1231.42</td>\n",
       "    </tr>\n",
       "    <tr>\n",
       "      <th>2017-04</th>\n",
       "      <td>1266.88</td>\n",
       "    </tr>\n",
       "    <tr>\n",
       "      <th>2017-05</th>\n",
       "      <td>1246.04</td>\n",
       "    </tr>\n",
       "  </tbody>\n",
       "</table>\n",
       "</div>"
      ],
      "text/plain": [
       "             Price\n",
       "Timestamp         \n",
       "2017-01    1192.10\n",
       "2017-02    1234.20\n",
       "2017-03    1231.42\n",
       "2017-04    1266.88\n",
       "2017-05    1246.04"
      ]
     },
     "execution_count": 174,
     "metadata": {},
     "output_type": "execute_result"
    }
   ],
   "source": [
    "# Import the variable gold save it\n",
    "gold = pd.read_excel('C:/Users/sofia/OneDrive/Desktop/CLSBE/2nd year/Tese/data/add_new_variables/gold.xlsx', header=4,index_col=1,sheet_name='Data')\n",
    "\n",
    "# Create date and time with dataframe\n",
    "data = pd.date_range('2014-01', periods = 104, freq ='M')\n",
    "\n",
    "#Add to gold dataframe\n",
    "gold.index=data\n",
    "\n",
    "# Transform the data\n",
    "gold.index=gold.index.strftime('%Y-%m')\n",
    "gold.index.name='Timestamp'\n",
    "gold= gold.drop(gold.columns[0], axis=1)\n",
    "gold= gold.rename(columns={'Unnamed: 2': 'Price'})\n",
    "\n",
    "# Delete the the rows that you will not use\n",
    "for i in gold.index:\n",
    "    if i<'2017-01' or i>'2021-06':\n",
    "        gold=gold.drop(i)\n",
    "    continue\n",
    "\n",
    "gold.head()"
   ]
  },
  {
   "cell_type": "code",
   "execution_count": 175,
   "id": "237c6639-14c0-4e33-8bed-f7e192a84d12",
   "metadata": {},
   "outputs": [
    {
     "name": "stderr",
     "output_type": "stream",
     "text": [
      "<ipython-input-175-312bbe7ac82a>:8: SettingWithCopyWarning: \n",
      "A value is trying to be set on a copy of a slice from a DataFrame\n",
      "\n",
      "See the caveats in the documentation: https://pandas.pydata.org/pandas-docs/stable/user_guide/indexing.html#returning-a-view-versus-a-copy\n",
      "  original['Gold'][i]=gold['Price'][j]\n",
      "C:\\Users\\sofia\\anaconda3\\lib\\site-packages\\pandas\\core\\indexing.py:1637: SettingWithCopyWarning: \n",
      "A value is trying to be set on a copy of a slice from a DataFrame\n",
      "\n",
      "See the caveats in the documentation: https://pandas.pydata.org/pandas-docs/stable/user_guide/indexing.html#returning-a-view-versus-a-copy\n",
      "  self._setitem_single_block(indexer, value, name)\n"
     ]
    },
    {
     "ename": "KeyboardInterrupt",
     "evalue": "",
     "output_type": "error",
     "traceback": [
      "\u001b[1;31m---------------------------------------------------------------------------\u001b[0m",
      "\u001b[1;31mTypeError\u001b[0m                                 Traceback (most recent call last)",
      "\u001b[1;32mpandas\\_libs\\index.pyx\u001b[0m in \u001b[0;36mpandas._libs.index.DatetimeEngine.get_loc\u001b[1;34m()\u001b[0m\n",
      "\u001b[1;32mpandas\\_libs\\index.pyx\u001b[0m in \u001b[0;36mpandas._libs.index.DatetimeEngine._unbox_scalar\u001b[1;34m()\u001b[0m\n",
      "\u001b[1;31mTypeError\u001b[0m: 2019-07",
      "\nDuring handling of the above exception, another exception occurred:\n",
      "\u001b[1;31mKeyError\u001b[0m                                  Traceback (most recent call last)",
      "\u001b[1;32m~\\anaconda3\\lib\\site-packages\\pandas\\core\\series.py\u001b[0m in \u001b[0;36m__setitem__\u001b[1;34m(self, key, value)\u001b[0m\n\u001b[0;32m    971\u001b[0m         \u001b[1;32mtry\u001b[0m\u001b[1;33m:\u001b[0m\u001b[1;33m\u001b[0m\u001b[1;33m\u001b[0m\u001b[0m\n\u001b[1;32m--> 972\u001b[1;33m             \u001b[0mself\u001b[0m\u001b[1;33m.\u001b[0m\u001b[0m_set_with_engine\u001b[0m\u001b[1;33m(\u001b[0m\u001b[0mkey\u001b[0m\u001b[1;33m,\u001b[0m \u001b[0mvalue\u001b[0m\u001b[1;33m)\u001b[0m\u001b[1;33m\u001b[0m\u001b[1;33m\u001b[0m\u001b[0m\n\u001b[0m\u001b[0;32m    973\u001b[0m         \u001b[1;32mexcept\u001b[0m \u001b[1;33m(\u001b[0m\u001b[0mKeyError\u001b[0m\u001b[1;33m,\u001b[0m \u001b[0mValueError\u001b[0m\u001b[1;33m)\u001b[0m\u001b[1;33m:\u001b[0m\u001b[1;33m\u001b[0m\u001b[1;33m\u001b[0m\u001b[0m\n",
      "\u001b[1;32m~\\anaconda3\\lib\\site-packages\\pandas\\core\\series.py\u001b[0m in \u001b[0;36m_set_with_engine\u001b[1;34m(self, key, value)\u001b[0m\n\u001b[0;32m   1004\u001b[0m         \u001b[1;31m# fails with AttributeError for IntervalIndex\u001b[0m\u001b[1;33m\u001b[0m\u001b[1;33m\u001b[0m\u001b[1;33m\u001b[0m\u001b[0m\n\u001b[1;32m-> 1005\u001b[1;33m         \u001b[0mloc\u001b[0m \u001b[1;33m=\u001b[0m \u001b[0mself\u001b[0m\u001b[1;33m.\u001b[0m\u001b[0mindex\u001b[0m\u001b[1;33m.\u001b[0m\u001b[0m_engine\u001b[0m\u001b[1;33m.\u001b[0m\u001b[0mget_loc\u001b[0m\u001b[1;33m(\u001b[0m\u001b[0mkey\u001b[0m\u001b[1;33m)\u001b[0m\u001b[1;33m\u001b[0m\u001b[1;33m\u001b[0m\u001b[0m\n\u001b[0m\u001b[0;32m   1006\u001b[0m         \u001b[0mvalidate_numeric_casting\u001b[0m\u001b[1;33m(\u001b[0m\u001b[0mself\u001b[0m\u001b[1;33m.\u001b[0m\u001b[0mdtype\u001b[0m\u001b[1;33m,\u001b[0m \u001b[0mvalue\u001b[0m\u001b[1;33m)\u001b[0m\u001b[1;33m\u001b[0m\u001b[1;33m\u001b[0m\u001b[0m\n",
      "\u001b[1;32mpandas\\_libs\\index.pyx\u001b[0m in \u001b[0;36mpandas._libs.index.DatetimeEngine.get_loc\u001b[1;34m()\u001b[0m\n",
      "\u001b[1;32mpandas\\_libs\\index.pyx\u001b[0m in \u001b[0;36mpandas._libs.index.DatetimeEngine.get_loc\u001b[1;34m()\u001b[0m\n",
      "\u001b[1;31mKeyError\u001b[0m: '2019-07'",
      "\nDuring handling of the above exception, another exception occurred:\n",
      "\u001b[1;31mKeyboardInterrupt\u001b[0m                         Traceback (most recent call last)",
      "\u001b[1;32m<ipython-input-175-312bbe7ac82a>\u001b[0m in \u001b[0;36m<module>\u001b[1;34m\u001b[0m\n\u001b[0;32m      6\u001b[0m     \u001b[1;32mfor\u001b[0m \u001b[0mj\u001b[0m \u001b[1;32min\u001b[0m \u001b[0mgold\u001b[0m\u001b[1;33m.\u001b[0m\u001b[0mindex\u001b[0m\u001b[1;33m:\u001b[0m\u001b[1;33m\u001b[0m\u001b[1;33m\u001b[0m\u001b[0m\n\u001b[0;32m      7\u001b[0m         \u001b[1;32mif\u001b[0m \u001b[0mi\u001b[0m\u001b[1;33m==\u001b[0m\u001b[0mj\u001b[0m\u001b[1;33m:\u001b[0m\u001b[1;33m\u001b[0m\u001b[1;33m\u001b[0m\u001b[0m\n\u001b[1;32m----> 8\u001b[1;33m             \u001b[0moriginal\u001b[0m\u001b[1;33m[\u001b[0m\u001b[1;34m'Gold'\u001b[0m\u001b[1;33m]\u001b[0m\u001b[1;33m[\u001b[0m\u001b[0mi\u001b[0m\u001b[1;33m]\u001b[0m\u001b[1;33m=\u001b[0m\u001b[0mgold\u001b[0m\u001b[1;33m[\u001b[0m\u001b[1;34m'Price'\u001b[0m\u001b[1;33m]\u001b[0m\u001b[1;33m[\u001b[0m\u001b[0mj\u001b[0m\u001b[1;33m]\u001b[0m\u001b[1;33m\u001b[0m\u001b[1;33m\u001b[0m\u001b[0m\n\u001b[0m\u001b[0;32m      9\u001b[0m \u001b[1;33m\u001b[0m\u001b[0m\n\u001b[0;32m     10\u001b[0m         \u001b[1;32mcontinue\u001b[0m\u001b[1;33m\u001b[0m\u001b[1;33m\u001b[0m\u001b[0m\n",
      "\u001b[1;32m~\\anaconda3\\lib\\site-packages\\pandas\\core\\series.py\u001b[0m in \u001b[0;36m__setitem__\u001b[1;34m(self, key, value)\u001b[0m\n\u001b[0;32m    978\u001b[0m             \u001b[1;32melse\u001b[0m\u001b[1;33m:\u001b[0m\u001b[1;33m\u001b[0m\u001b[1;33m\u001b[0m\u001b[0m\n\u001b[0;32m    979\u001b[0m                 \u001b[1;31m# GH#12862 adding a new key to the Series\u001b[0m\u001b[1;33m\u001b[0m\u001b[1;33m\u001b[0m\u001b[1;33m\u001b[0m\u001b[0m\n\u001b[1;32m--> 980\u001b[1;33m                 \u001b[0mself\u001b[0m\u001b[1;33m.\u001b[0m\u001b[0mloc\u001b[0m\u001b[1;33m[\u001b[0m\u001b[0mkey\u001b[0m\u001b[1;33m]\u001b[0m \u001b[1;33m=\u001b[0m \u001b[0mvalue\u001b[0m\u001b[1;33m\u001b[0m\u001b[1;33m\u001b[0m\u001b[0m\n\u001b[0m\u001b[0;32m    981\u001b[0m \u001b[1;33m\u001b[0m\u001b[0m\n\u001b[0;32m    982\u001b[0m         \u001b[1;32mexcept\u001b[0m \u001b[0mTypeError\u001b[0m \u001b[1;32mas\u001b[0m \u001b[0merr\u001b[0m\u001b[1;33m:\u001b[0m\u001b[1;33m\u001b[0m\u001b[1;33m\u001b[0m\u001b[0m\n",
      "\u001b[1;32m~\\anaconda3\\lib\\site-packages\\pandas\\core\\indexing.py\u001b[0m in \u001b[0;36m__setitem__\u001b[1;34m(self, key, value)\u001b[0m\n\u001b[0;32m    686\u001b[0m         \u001b[1;32melse\u001b[0m\u001b[1;33m:\u001b[0m\u001b[1;33m\u001b[0m\u001b[1;33m\u001b[0m\u001b[0m\n\u001b[0;32m    687\u001b[0m             \u001b[0mkey\u001b[0m \u001b[1;33m=\u001b[0m \u001b[0mcom\u001b[0m\u001b[1;33m.\u001b[0m\u001b[0mapply_if_callable\u001b[0m\u001b[1;33m(\u001b[0m\u001b[0mkey\u001b[0m\u001b[1;33m,\u001b[0m \u001b[0mself\u001b[0m\u001b[1;33m.\u001b[0m\u001b[0mobj\u001b[0m\u001b[1;33m)\u001b[0m\u001b[1;33m\u001b[0m\u001b[1;33m\u001b[0m\u001b[0m\n\u001b[1;32m--> 688\u001b[1;33m         \u001b[0mindexer\u001b[0m \u001b[1;33m=\u001b[0m \u001b[0mself\u001b[0m\u001b[1;33m.\u001b[0m\u001b[0m_get_setitem_indexer\u001b[0m\u001b[1;33m(\u001b[0m\u001b[0mkey\u001b[0m\u001b[1;33m)\u001b[0m\u001b[1;33m\u001b[0m\u001b[1;33m\u001b[0m\u001b[0m\n\u001b[0m\u001b[0;32m    689\u001b[0m         \u001b[0mself\u001b[0m\u001b[1;33m.\u001b[0m\u001b[0m_has_valid_setitem_indexer\u001b[0m\u001b[1;33m(\u001b[0m\u001b[0mkey\u001b[0m\u001b[1;33m)\u001b[0m\u001b[1;33m\u001b[0m\u001b[1;33m\u001b[0m\u001b[0m\n\u001b[0;32m    690\u001b[0m \u001b[1;33m\u001b[0m\u001b[0m\n",
      "\u001b[1;32m~\\anaconda3\\lib\\site-packages\\pandas\\core\\indexing.py\u001b[0m in \u001b[0;36m_get_setitem_indexer\u001b[1;34m(self, key)\u001b[0m\n\u001b[0;32m    634\u001b[0m \u001b[1;33m\u001b[0m\u001b[0m\n\u001b[0;32m    635\u001b[0m         \u001b[1;32mtry\u001b[0m\u001b[1;33m:\u001b[0m\u001b[1;33m\u001b[0m\u001b[1;33m\u001b[0m\u001b[0m\n\u001b[1;32m--> 636\u001b[1;33m             \u001b[1;32mreturn\u001b[0m \u001b[0mself\u001b[0m\u001b[1;33m.\u001b[0m\u001b[0m_convert_to_indexer\u001b[0m\u001b[1;33m(\u001b[0m\u001b[0mkey\u001b[0m\u001b[1;33m,\u001b[0m \u001b[0maxis\u001b[0m\u001b[1;33m=\u001b[0m\u001b[1;36m0\u001b[0m\u001b[1;33m,\u001b[0m \u001b[0mis_setter\u001b[0m\u001b[1;33m=\u001b[0m\u001b[1;32mTrue\u001b[0m\u001b[1;33m)\u001b[0m\u001b[1;33m\u001b[0m\u001b[1;33m\u001b[0m\u001b[0m\n\u001b[0m\u001b[0;32m    637\u001b[0m         \u001b[1;32mexcept\u001b[0m \u001b[0mTypeError\u001b[0m \u001b[1;32mas\u001b[0m \u001b[0me\u001b[0m\u001b[1;33m:\u001b[0m\u001b[1;33m\u001b[0m\u001b[1;33m\u001b[0m\u001b[0m\n\u001b[0;32m    638\u001b[0m \u001b[1;33m\u001b[0m\u001b[0m\n",
      "\u001b[1;32m~\\anaconda3\\lib\\site-packages\\pandas\\core\\indexing.py\u001b[0m in \u001b[0;36m_convert_to_indexer\u001b[1;34m(self, key, axis, is_setter)\u001b[0m\n\u001b[0;32m   1174\u001b[0m             \u001b[1;31m# if we are a label return me\u001b[0m\u001b[1;33m\u001b[0m\u001b[1;33m\u001b[0m\u001b[1;33m\u001b[0m\u001b[0m\n\u001b[0;32m   1175\u001b[0m             \u001b[1;32mtry\u001b[0m\u001b[1;33m:\u001b[0m\u001b[1;33m\u001b[0m\u001b[1;33m\u001b[0m\u001b[0m\n\u001b[1;32m-> 1176\u001b[1;33m                 \u001b[1;32mreturn\u001b[0m \u001b[0mlabels\u001b[0m\u001b[1;33m.\u001b[0m\u001b[0mget_loc\u001b[0m\u001b[1;33m(\u001b[0m\u001b[0mkey\u001b[0m\u001b[1;33m)\u001b[0m\u001b[1;33m\u001b[0m\u001b[1;33m\u001b[0m\u001b[0m\n\u001b[0m\u001b[0;32m   1177\u001b[0m             \u001b[1;32mexcept\u001b[0m \u001b[0mLookupError\u001b[0m\u001b[1;33m:\u001b[0m\u001b[1;33m\u001b[0m\u001b[1;33m\u001b[0m\u001b[0m\n\u001b[0;32m   1178\u001b[0m                 \u001b[1;32mif\u001b[0m \u001b[0misinstance\u001b[0m\u001b[1;33m(\u001b[0m\u001b[0mkey\u001b[0m\u001b[1;33m,\u001b[0m \u001b[0mtuple\u001b[0m\u001b[1;33m)\u001b[0m \u001b[1;32mand\u001b[0m \u001b[0misinstance\u001b[0m\u001b[1;33m(\u001b[0m\u001b[0mlabels\u001b[0m\u001b[1;33m,\u001b[0m \u001b[0mABCMultiIndex\u001b[0m\u001b[1;33m)\u001b[0m\u001b[1;33m:\u001b[0m\u001b[1;33m\u001b[0m\u001b[1;33m\u001b[0m\u001b[0m\n",
      "\u001b[1;32m~\\anaconda3\\lib\\site-packages\\pandas\\core\\indexes\\datetimes.py\u001b[0m in \u001b[0;36mget_loc\u001b[1;34m(self, key, method, tolerance)\u001b[0m\n\u001b[0;32m    657\u001b[0m         \u001b[1;32melif\u001b[0m \u001b[0misinstance\u001b[0m\u001b[1;33m(\u001b[0m\u001b[0mkey\u001b[0m\u001b[1;33m,\u001b[0m \u001b[0mstr\u001b[0m\u001b[1;33m)\u001b[0m\u001b[1;33m:\u001b[0m\u001b[1;33m\u001b[0m\u001b[1;33m\u001b[0m\u001b[0m\n\u001b[0;32m    658\u001b[0m             \u001b[1;32mtry\u001b[0m\u001b[1;33m:\u001b[0m\u001b[1;33m\u001b[0m\u001b[1;33m\u001b[0m\u001b[0m\n\u001b[1;32m--> 659\u001b[1;33m                 \u001b[1;32mreturn\u001b[0m \u001b[0mself\u001b[0m\u001b[1;33m.\u001b[0m\u001b[0m_get_string_slice\u001b[0m\u001b[1;33m(\u001b[0m\u001b[0mkey\u001b[0m\u001b[1;33m)\u001b[0m\u001b[1;33m\u001b[0m\u001b[1;33m\u001b[0m\u001b[0m\n\u001b[0m\u001b[0;32m    660\u001b[0m             \u001b[1;32mexcept\u001b[0m \u001b[1;33m(\u001b[0m\u001b[0mTypeError\u001b[0m\u001b[1;33m,\u001b[0m \u001b[0mKeyError\u001b[0m\u001b[1;33m,\u001b[0m \u001b[0mValueError\u001b[0m\u001b[1;33m,\u001b[0m \u001b[0mOverflowError\u001b[0m\u001b[1;33m)\u001b[0m\u001b[1;33m:\u001b[0m\u001b[1;33m\u001b[0m\u001b[1;33m\u001b[0m\u001b[0m\n\u001b[0;32m    661\u001b[0m                 \u001b[1;32mpass\u001b[0m\u001b[1;33m\u001b[0m\u001b[1;33m\u001b[0m\u001b[0m\n",
      "\u001b[1;32m~\\anaconda3\\lib\\site-packages\\pandas\\core\\indexes\\datetimes.py\u001b[0m in \u001b[0;36m_get_string_slice\u001b[1;34m(self, key)\u001b[0m\n\u001b[0;32m    746\u001b[0m         \u001b[0mparsed\u001b[0m\u001b[1;33m,\u001b[0m \u001b[0mreso\u001b[0m \u001b[1;33m=\u001b[0m \u001b[0mparsing\u001b[0m\u001b[1;33m.\u001b[0m\u001b[0mparse_time_string\u001b[0m\u001b[1;33m(\u001b[0m\u001b[0mkey\u001b[0m\u001b[1;33m,\u001b[0m \u001b[0mfreq\u001b[0m\u001b[1;33m)\u001b[0m\u001b[1;33m\u001b[0m\u001b[1;33m\u001b[0m\u001b[0m\n\u001b[0;32m    747\u001b[0m         \u001b[0mreso\u001b[0m \u001b[1;33m=\u001b[0m \u001b[0mResolution\u001b[0m\u001b[1;33m.\u001b[0m\u001b[0mfrom_attrname\u001b[0m\u001b[1;33m(\u001b[0m\u001b[0mreso\u001b[0m\u001b[1;33m)\u001b[0m\u001b[1;33m\u001b[0m\u001b[1;33m\u001b[0m\u001b[0m\n\u001b[1;32m--> 748\u001b[1;33m         \u001b[0mloc\u001b[0m \u001b[1;33m=\u001b[0m \u001b[0mself\u001b[0m\u001b[1;33m.\u001b[0m\u001b[0m_partial_date_slice\u001b[0m\u001b[1;33m(\u001b[0m\u001b[0mreso\u001b[0m\u001b[1;33m,\u001b[0m \u001b[0mparsed\u001b[0m\u001b[1;33m)\u001b[0m\u001b[1;33m\u001b[0m\u001b[1;33m\u001b[0m\u001b[0m\n\u001b[0m\u001b[0;32m    749\u001b[0m         \u001b[1;32mreturn\u001b[0m \u001b[0mloc\u001b[0m\u001b[1;33m\u001b[0m\u001b[1;33m\u001b[0m\u001b[0m\n\u001b[0;32m    750\u001b[0m \u001b[1;33m\u001b[0m\u001b[0m\n",
      "\u001b[1;32m~\\anaconda3\\lib\\site-packages\\pandas\\core\\indexes\\datetimelike.py\u001b[0m in \u001b[0;36m_partial_date_slice\u001b[1;34m(self, reso, parsed)\u001b[0m\n\u001b[0;32m    452\u001b[0m         \u001b[0mself\u001b[0m\u001b[1;33m.\u001b[0m\u001b[0m_validate_partial_date_slice\u001b[0m\u001b[1;33m(\u001b[0m\u001b[0mreso\u001b[0m\u001b[1;33m)\u001b[0m\u001b[1;33m\u001b[0m\u001b[1;33m\u001b[0m\u001b[0m\n\u001b[0;32m    453\u001b[0m \u001b[1;33m\u001b[0m\u001b[0m\n\u001b[1;32m--> 454\u001b[1;33m         \u001b[0mt1\u001b[0m\u001b[1;33m,\u001b[0m \u001b[0mt2\u001b[0m \u001b[1;33m=\u001b[0m \u001b[0mself\u001b[0m\u001b[1;33m.\u001b[0m\u001b[0m_parsed_string_to_bounds\u001b[0m\u001b[1;33m(\u001b[0m\u001b[0mreso\u001b[0m\u001b[1;33m,\u001b[0m \u001b[0mparsed\u001b[0m\u001b[1;33m)\u001b[0m\u001b[1;33m\u001b[0m\u001b[1;33m\u001b[0m\u001b[0m\n\u001b[0m\u001b[0;32m    455\u001b[0m         \u001b[0mvals\u001b[0m \u001b[1;33m=\u001b[0m \u001b[0mself\u001b[0m\u001b[1;33m.\u001b[0m\u001b[0m_data\u001b[0m\u001b[1;33m.\u001b[0m\u001b[0m_ndarray\u001b[0m\u001b[1;33m\u001b[0m\u001b[1;33m\u001b[0m\u001b[0m\n\u001b[0;32m    456\u001b[0m         \u001b[0munbox\u001b[0m \u001b[1;33m=\u001b[0m \u001b[0mself\u001b[0m\u001b[1;33m.\u001b[0m\u001b[0m_data\u001b[0m\u001b[1;33m.\u001b[0m\u001b[0m_unbox\u001b[0m\u001b[1;33m\u001b[0m\u001b[1;33m\u001b[0m\u001b[0m\n",
      "\u001b[1;32m~\\anaconda3\\lib\\site-packages\\pandas\\core\\indexes\\datetimes.py\u001b[0m in \u001b[0;36m_parsed_string_to_bounds\u001b[1;34m(self, reso, parsed)\u001b[0m\n\u001b[0;32m    576\u001b[0m         \u001b[0mgrp\u001b[0m \u001b[1;33m=\u001b[0m \u001b[0mreso\u001b[0m\u001b[1;33m.\u001b[0m\u001b[0mfreq_group\u001b[0m\u001b[1;33m\u001b[0m\u001b[1;33m\u001b[0m\u001b[0m\n\u001b[0;32m    577\u001b[0m         \u001b[0mper\u001b[0m \u001b[1;33m=\u001b[0m \u001b[0mPeriod\u001b[0m\u001b[1;33m(\u001b[0m\u001b[0mparsed\u001b[0m\u001b[1;33m,\u001b[0m \u001b[0mfreq\u001b[0m\u001b[1;33m=\u001b[0m\u001b[0mgrp\u001b[0m\u001b[1;33m)\u001b[0m\u001b[1;33m\u001b[0m\u001b[1;33m\u001b[0m\u001b[0m\n\u001b[1;32m--> 578\u001b[1;33m         \u001b[0mstart\u001b[0m\u001b[1;33m,\u001b[0m \u001b[0mend\u001b[0m \u001b[1;33m=\u001b[0m \u001b[0mper\u001b[0m\u001b[1;33m.\u001b[0m\u001b[0mstart_time\u001b[0m\u001b[1;33m,\u001b[0m \u001b[0mper\u001b[0m\u001b[1;33m.\u001b[0m\u001b[0mend_time\u001b[0m\u001b[1;33m\u001b[0m\u001b[1;33m\u001b[0m\u001b[0m\n\u001b[0m\u001b[0;32m    579\u001b[0m \u001b[1;33m\u001b[0m\u001b[0m\n\u001b[0;32m    580\u001b[0m         \u001b[1;31m# GH 24076\u001b[0m\u001b[1;33m\u001b[0m\u001b[1;33m\u001b[0m\u001b[1;33m\u001b[0m\u001b[0m\n",
      "\u001b[1;32mpandas\\_libs\\tslibs\\period.pyx\u001b[0m in \u001b[0;36mpandas._libs.tslibs.period._Period.start_time.__get__\u001b[1;34m()\u001b[0m\n",
      "\u001b[1;32mpandas\\_libs\\tslibs\\period.pyx\u001b[0m in \u001b[0;36mpandas._libs.tslibs.period._Period.to_timestamp\u001b[1;34m()\u001b[0m\n",
      "\u001b[1;32mpandas\\_libs\\tslibs\\period.pyx\u001b[0m in \u001b[0;36mpandas._libs.tslibs.period._Period.asfreq\u001b[1;34m()\u001b[0m\n",
      "\u001b[1;32mpandas\\_libs\\tslibs\\period.pyx\u001b[0m in \u001b[0;36mpandas._libs.tslibs.period._Period._maybe_convert_freq\u001b[1;34m()\u001b[0m\n",
      "\u001b[1;32mpandas\\_libs\\tslibs\\dtypes.pyx\u001b[0m in \u001b[0;36mpandas._libs.tslibs.dtypes.PeriodDtypeBase.date_offset.__get__\u001b[1;34m()\u001b[0m\n",
      "\u001b[1;32mpandas\\_libs\\tslibs\\offsets.pyx\u001b[0m in \u001b[0;36mpandas._libs.tslibs.offsets.to_offset\u001b[1;34m()\u001b[0m\n",
      "\u001b[1;32mpandas\\_libs\\tslibs\\offsets.pyx\u001b[0m in \u001b[0;36mpandas._libs.tslibs.offsets.to_offset\u001b[1;34m()\u001b[0m\n",
      "\u001b[1;32mpandas\\_libs\\tslibs\\offsets.pyx\u001b[0m in \u001b[0;36mpandas._libs.tslibs.offsets.Tick.__mul__\u001b[1;34m()\u001b[0m\n",
      "\u001b[1;32m<__array_function__ internals>\u001b[0m in \u001b[0;36misclose\u001b[1;34m(*args, **kwargs)\u001b[0m\n",
      "\u001b[1;31mKeyboardInterrupt\u001b[0m: "
     ]
    }
   ],
   "source": [
    "# Create an empty column\n",
    "original['Gold']=''\n",
    "\n",
    "# Copy this variable to the original dataframe\n",
    "for i in original.index.strftime('%Y-%m'):\n",
    "    for j in gold.index:\n",
    "        if i==j:\n",
    "            original['Gold'][i]=gold['Price'][j]\n",
    "            \n",
    "        continue\n",
    "original['Gold'].head(32) #check the values between the first 2 months to guarantee that the values were copied"
   ]
  },
  {
   "cell_type": "code",
   "execution_count": null,
   "id": "c66872f2-58de-4de5-8940-b4b07e040ab0",
   "metadata": {},
   "outputs": [],
   "source": [
    "# Import the binary variable of bitcoin regulation related news and save it\n",
    "news_reg = pd.read_excel('C:/Users/sofia/OneDrive/Desktop/CLSBE/2nd year/Tese/data/add_new_variables/news_regulation.xlsx', header=0,index_col=0)\n",
    "news_reg.head()\n",
    "\n",
    "# Add this variable to the original dataset\n",
    "original['News Regulation'] = news_reg['news_regulation']\n",
    "original.head(10) #check the original dataset"
   ]
  },
  {
   "cell_type": "code",
   "execution_count": null,
   "id": "6592dcbe-5f98-41bf-896a-eb214260f8b7",
   "metadata": {},
   "outputs": [],
   "source": [
    "## Sentiment analysis using Google Trends (GT)\n",
    "# Import the variables\n",
    "GT = pd.read_csv('C:/Users/sofia/OneDrive/Desktop/CLSBE/2nd year/Tese/data/add_new_variables/GT.csv', header=1,index_col=0)\n",
    "\n",
    "# Data transformation\n",
    "GT = GT.rename(columns={'bitcoin legal: (Worldwide)': 'legal'})\n",
    "GT = GT.rename(columns={'bitcoin cryptocurrency: (Worldwide)': 'cryptocurrency'})\n",
    "GT = GT.rename(columns={'bitcoin scam: (Worldwide)': 'scam'})\n",
    "\n",
    "# Delete the the rows that you will not use\n",
    "for i in GT.index:\n",
    "    if i>'2021-06-13':\n",
    "        GT=GT.drop(i)\n",
    "    continue\n",
    "GT.head(300)"
   ]
  },
  {
   "cell_type": "code",
   "execution_count": null,
   "id": "a655bcf0-37b8-4e98-bea8-a16908bebba3",
   "metadata": {},
   "outputs": [],
   "source": [
    "# Add the Bitcoin+legal keyword variable to the original dataset\n",
    "original['GT_legal']=''\n",
    "for i in original.index.strftime('%Y-%m-%d'):\n",
    "    for j in range(len(GT.index)-1):\n",
    "        if i>=GT.index[j] and i<GT.index[j+1]:\n",
    "            original['GT_legal'][i] =GT['legal'][GT.index[j]]\n",
    "        continue\n",
    "        \n",
    "original['GT_legal'].head() #check the original dataset"
   ]
  },
  {
   "cell_type": "code",
   "execution_count": null,
   "id": "3f6eb6bf-f8b5-4a3c-8a47-7060da17316b",
   "metadata": {},
   "outputs": [],
   "source": [
    "#Convert string <1 in legal variable to a float\n",
    "for j in range(len(original['GT_legal'])):\n",
    "    if original['GT_legal'][j]=='<1':\n",
    "        original['GT_legal'][j]=0.5\n",
    "    continue"
   ]
  },
  {
   "cell_type": "code",
   "execution_count": null,
   "id": "b8b6cad1-8a01-4791-ba98-51f65a896e2c",
   "metadata": {},
   "outputs": [],
   "source": [
    "# Add the Bitcoin+cryptocurrency keyword variable to the original dataset\n",
    "original['GT_cryptocurrency']=''\n",
    "for i in original.index.strftime('%Y-%m-%d'):\n",
    "    for j in range(len(GT.index)-1):\n",
    "        if i>=GT.index[j] and i<GT.index[j+1]:\n",
    "            original['GT_cryptocurrency'][i] =GT['cryptocurrency'][GT.index[j]]\n",
    "        continue\n",
    "original['GT_cryptocurrency'].head() #check the original dataset"
   ]
  },
  {
   "cell_type": "code",
   "execution_count": null,
   "id": "345cfc98-e6a8-4727-b1f1-f31f70e76803",
   "metadata": {},
   "outputs": [],
   "source": [
    "original['GT_scam']=''\n",
    "\n",
    "# Add the Bitcoin+scam keyword variable to the original dataset\n",
    "original['GT_scam']=''\n",
    "for i in original.index.strftime('%Y-%m-%d'):\n",
    "    for j in range(len(GT.index)-1):\n",
    "        if i>=GT.index[j] and i<GT.index[j+1]:\n",
    "            original['GT_scam'][i] =GT['scam'][GT.index[j]]\n",
    "        continue\n",
    "\n",
    "original['GT_scam'].head() #check the original dataset"
   ]
  },
  {
   "cell_type": "code",
   "execution_count": null,
   "id": "7530d130-aac8-47ef-9118-b2cc256dcbf6",
   "metadata": {},
   "outputs": [],
   "source": [
    "## S&P500 index\n",
    "# Import the variable\n",
    "SP500 = pd.read_csv('C:/Users/sofia/OneDrive/Desktop/CLSBE/2nd year/Tese/data/add_new_variables/SP500.csv', header=0,index_col=0)\n",
    "SP500 = SP500.rename(columns={'s1': 'Value'})\n",
    "SP500= SP500.drop(['conf','status1'], axis='columns')\n",
    "SP500.index = pd.to_datetime(SP500.index)\n",
    "SP500.index=SP500.index.strftime('%Y-%m')\n",
    "SP500.head()"
   ]
  },
  {
   "cell_type": "code",
   "execution_count": null,
   "id": "9277b0d1-c69c-422c-8d9b-67200967092d",
   "metadata": {},
   "outputs": [],
   "source": [
    "original['SP500']=''\n",
    "# Copy this variable to the original dataframe\n",
    "for i in original.index.strftime('%Y-%m'):\n",
    "    for j in SP500.index:\n",
    "        if i==j:\n",
    "            original['SP500'][i]=SP500['Value'][j]\n",
    "            \n",
    "        continue\n",
    "original['SP500'].head(32) #check the values between the first 2 months to guarantee that the values were copied"
   ]
  },
  {
   "cell_type": "code",
   "execution_count": null,
   "id": "1d0448e3-6ade-4b78-9be0-0666b27242a6",
   "metadata": {},
   "outputs": [],
   "source": [
    "# Import the variable\n",
    "oil = pd.read_excel('C:/Users/sofia/OneDrive/Desktop/CLSBE/2nd year/Tese/data/add_new_variables/oil price.xlsx', sheet_name='Data',header=4,index_col=1)\n",
    "oil=oil.drop(['Unnamed: 0'],axis='columns')\n",
    "oil = oil.rename(columns={'Unnamed: 2': 'Price'})\n",
    "\n",
    "# Delete the the rows that you will not use\n",
    "for i in oil.index:\n",
    "    if i<'2017' or i>'2021':\n",
    "        oil=oil.drop(i)\n",
    "    continue\n",
    "oil.head()"
   ]
  },
  {
   "cell_type": "code",
   "execution_count": null,
   "id": "150fc980-358d-40de-8641-12501babd053",
   "metadata": {},
   "outputs": [],
   "source": [
    "original['Oil']=''\n",
    "# Copy this variable to the original dataframe\n",
    "for i in original.index.strftime('%Y'):\n",
    "    for j in oil.index:\n",
    "        if i==j:\n",
    "            original['Oil'][i]=oil['Price'][j]\n",
    "            \n",
    "        continue\n",
    "original['Oil'].head(366) #check the values between the first 2 years to guarantee that the values were copied"
   ]
  },
  {
   "cell_type": "code",
   "execution_count": null,
   "id": "29ad11a0-7a37-4888-8fa7-e13f2368b2ca",
   "metadata": {},
   "outputs": [],
   "source": [
    "theft = pd.read_excel('C:/Users/sofia/OneDrive/Desktop/CLSBE/2nd year/Tese/data/add_new_variables/theft-2016-2020.xlsx', sheet_name='Data',header=4,index_col=1)\n",
    "# Data Transformation of theft dataset\n",
    "theft=theft.drop(['Unnamed: 0'],axis='columns')\n",
    "theft = theft.rename(columns={'Unnamed: 2': 'Lost'})\n",
    "theft.index = pd.to_datetime(theft.index,yearfirst=True, format= \"%Y\")\n",
    "theft.index.name='Date'\n",
    "theft.index=theft.index.strftime('%Y')\n",
    "print(theft.head())\n",
    "\n",
    "theft1 = pd.read_excel('C:/Users/sofia/OneDrive/Desktop/CLSBE/2nd year/Tese/data/add_new_variables/theft-2020-2022.xlsx', sheet_name='Data',header=4,index_col=1)\n",
    "# Data Transformation of theft1 dataset\n",
    "theft1=theft1.drop(['Unnamed: 0','Recovered'],axis='columns')\n",
    "theft1.index = pd.to_datetime(theft1.index)\n",
    "theft1.index.name='Date'\n",
    "theft1.index=theft1.index.strftime('%Y-%m')\n",
    "\n",
    "# Delete the the rows that you will not use\n",
    "for i in theft1.index:\n",
    "    if i<='2020-12' or i>'2021-06':\n",
    "        theft1=theft1.drop(i)\n",
    "    continue\n",
    "theft1.head()"
   ]
  },
  {
   "cell_type": "code",
   "execution_count": null,
   "id": "d635be69-4f8c-4a54-b274-346d63058492",
   "metadata": {},
   "outputs": [],
   "source": [
    "# Create an empty variable in the original dataset\n",
    "original['Theft']=''\n",
    "\n",
    "# Copy this variable to the original dataframe\n",
    "for i in original.index.strftime('%Y'):\n",
    "    for j in theft.index:\n",
    "        if i==j:\n",
    "            original['Theft'][i]=theft['Lost'][j]\n",
    "        continue\n",
    "original['Theft'].head(366) #check the values between the first 2 years to guarantee that the values were copied"
   ]
  },
  {
   "cell_type": "code",
   "execution_count": null,
   "id": "4fd9ab38-57f3-4847-ac13-f8d426aeaa92",
   "metadata": {},
   "outputs": [],
   "source": [
    "# Copy this variable to the original dataframe\n",
    "for i in original.index.strftime('%Y-%m'):\n",
    "    for j in theft1.index:\n",
    "        if i==j:\n",
    "            original['Theft'][i]=theft1['Lost'][j]\n",
    "        continue\n",
    "\n",
    "#check the values between the first 2 months of 2021 to guarantee that the values were copied\n",
    "for i in original.index.strftime('%Y-%m-%d'):\n",
    "    if i>'2021-01-01' and i<='2021-02-01':\n",
    "        print(original['Theft'][i])"
   ]
  },
  {
   "cell_type": "code",
   "execution_count": null,
   "id": "1a408b5e-8981-4cd3-a67b-fdec12a2ff06",
   "metadata": {},
   "outputs": [],
   "source": [
    "# Export the final dataset to Excel\n",
    "original.to_excel('C:/Users/sofia/OneDrive/Desktop/CLSBE/2nd year/Tese/data/final/final.xlsx')"
   ]
  },
  {
   "cell_type": "markdown",
   "id": "4a580d0d-f71a-4cb3-b613-d2981bdd48db",
   "metadata": {},
   "source": [
    "### 1.2 Cleaning the data"
   ]
  },
  {
   "cell_type": "code",
   "execution_count": null,
   "id": "64ef8569-a11c-4f05-aedf-e5862835fc7d",
   "metadata": {},
   "outputs": [],
   "source": [
    "# Reading the final dataset\n",
    "final = pd.read_excel('C:/Users/sofia/OneDrive/Desktop/CLSBE/2nd year/Tese/data/final/final.xlsx',index_col=0)\n",
    "final.head() # check the pre-cleaned dataset"
   ]
  },
  {
   "cell_type": "code",
   "execution_count": null,
   "id": "caf006bd-b616-4236-81d0-dd7ba02fbe9c",
   "metadata": {},
   "outputs": [],
   "source": [
    "# Check if there is any missing value in the dataset\n",
    "check_nan = final.isnull().values.any()\n",
    "print(check_nan)"
   ]
  },
  {
   "cell_type": "markdown",
   "id": "553f89ed-9ca5-48f4-9694-45307757e40e",
   "metadata": {},
   "source": [
    "## 2. DATA EXPLORATION"
   ]
  },
  {
   "cell_type": "markdown",
   "id": "aa25bd27-c655-454a-9527-b23662b841d1",
   "metadata": {},
   "source": [
    "*Now we are able to extract the main information from the final dataset*"
   ]
  },
  {
   "cell_type": "markdown",
   "id": "136f6bf2-89bc-438d-8496-8b84e877beaa",
   "metadata": {},
   "source": [
    "### 2.1 Descriptive Statistics"
   ]
  },
  {
   "cell_type": "code",
   "execution_count": null,
   "id": "5b3dd0e7-f956-4104-95aa-1051579767b6",
   "metadata": {},
   "outputs": [],
   "source": [
    "final.describe().transpose()"
   ]
  },
  {
   "cell_type": "markdown",
   "id": "6acd2863-ac40-4f1a-8394-383a02432d49",
   "metadata": {},
   "source": [
    "*These table presents some information about the statistics of the variables, namely:*\n",
    "\n",
    "*1. The difference between the mean and the median (50%) is quite significant in monetary and BTC variables. This might indicate that these variables are not normalised. Nevertheless, it is going to be checked below by plotting those distributions.*\n",
    "\n",
    "*2. For example, average confirmation time has a maximum quite large in comparision with the median. Is it a outlier? It will be check that by plotting a histogram in the next steps.*"
   ]
  },
  {
   "cell_type": "code",
   "execution_count": null,
   "id": "b5467490-4a1a-42ba-885b-10cea7e0ed82",
   "metadata": {},
   "outputs": [],
   "source": [
    "# Plotting the Bitcoin price between 2017 and 2021\n",
    "date = final['market-price'].index\n",
    "value = final['market-price']\n",
    "fig, ax = plt.subplots(figsize=(8, 6))\n",
    "year_locator = mdates.YearLocator()\n",
    "ax.xaxis.set_major_locator(year_locator) # Locator for major axis only.\n",
    "ax.plot(date, value);\n",
    "plt.ylabel('Bitcoin price (USD)')\n",
    "plt.title('Bitcoin price evolution')\n",
    "plt.savefig('C:/Users/sofia/OneDrive/Desktop/CLSBE/2nd year/Tese/Figuras/btc_price_years.jpg') # save this figure to use in the thesis\n",
    "plt.show() # Plot the graph so we can see the results"
   ]
  },
  {
   "cell_type": "markdown",
   "id": "ac774017-0ad4-499a-b6ba-77097c5a544f",
   "metadata": {},
   "source": [
    "*Both plots show us that the BTC is the most volatile asset, comparing to Gold and S&P500.*"
   ]
  },
  {
   "cell_type": "code",
   "execution_count": null,
   "id": "719630cf-4c04-427f-890c-1a4b9a911eee",
   "metadata": {},
   "outputs": [],
   "source": [
    "plt.hist(final['market-price'],edgecolor='black', linewidth=1.2)\n",
    "plt.title('Market price distribution')\n",
    "plt.ylabel('Number of days')\n",
    "plt.xlabel('Price ($)')\n",
    "plt.savefig('C:/Users/sofia/OneDrive/Desktop/CLSBE/2nd year/Tese/Figuras/hist_marketprice.jpg') # save this figure to use in the thesis\n",
    "plt.show()"
   ]
  },
  {
   "cell_type": "markdown",
   "id": "09d30853-6064-463e-b62e-992cbea3dd20",
   "metadata": {},
   "source": [
    "*As we can see, the BTC price is clearly skewed to the right. This means that we should apply log transformation to the variable.*"
   ]
  },
  {
   "cell_type": "code",
   "execution_count": null,
   "id": "73acdc5d-39b8-4877-a396-fc43a07628df",
   "metadata": {},
   "outputs": [],
   "source": [
    "# Creating a new dataframe to model\n",
    "model = pd.read_excel('C:/Users/sofia/OneDrive/Desktop/CLSBE/2nd year/Tese/data/final/final.xlsx',index_col=0)\n",
    "\n",
    "# Applying log transformation into price-variables\n",
    "model['market-price']=np.log(model['market-price'])\n",
    "model['market-cap']=np.log(model['market-cap'])\n",
    "model['High']=np.log(model['High'])\n",
    "model['Low']=np.log(model['Low'])\n",
    "model['Open']=np.log(model['Open'])\n",
    "model['cost-per-transaction-percent']=np.log(model['cost-per-transaction-percent'])\n",
    "model['fees-usd-per-transaction']=np.log(model['fees-usd-per-transaction'])\n",
    "model['transaction-fees-usd']=np.log(model['transaction-fees-usd'])\n",
    "\n",
    "# Rename the log variables\n",
    "model = model.rename(columns={'market-price': 'lg_price'})\n",
    "model = model.rename(columns={'market-cap': 'lg_market-cap'})\n",
    "model = model.rename(columns={'High': 'lg_High'})\n",
    "model = model.rename(columns={'cost-per-transaction-percent': 'lg_cost-per-transaction-percent'})\n",
    "model = model.rename(columns={'Open': 'lg_Open'})\n",
    "model = model.rename(columns={'Low': 'lg_Low'})\n",
    "model = model.rename(columns={'fees-usd-per-transaction': 'lg_fees-usd-per-transaction'})\n",
    "model = model.rename(columns={'transaction-fees-usd': 'lg_transaction-fees-usd'})\n",
    "\n",
    "# Visualize the new transformation\n",
    "plt.hist(model['lg_price'],edgecolor='black', linewidth=1.2, color='orange')\n",
    "plt.title('Logarithm of Market price distribution')\n",
    "plt.ylabel('Number of days')\n",
    "plt.xlabel('Price ($)')\n",
    "plt.savefig('C:/Users/sofia/OneDrive/Desktop/CLSBE/2nd year/Tese/Figuras/hist_logprice.jpg') # save this figure to use in the thesis\n",
    "plt.show()"
   ]
  },
  {
   "cell_type": "markdown",
   "id": "c8ed9c8a-1bf1-4ec6-8b31-d00e6a254dbc",
   "metadata": {},
   "source": [
    "*Now we have a Normal Distribution as intended.*"
   ]
  },
  {
   "cell_type": "markdown",
   "id": "41137226-08a5-498c-b376-bfade3247328",
   "metadata": {},
   "source": [
    "*Next, we are going to investigate the same issue for some explanatory variables where we may need to apply the same solution.*"
   ]
  },
  {
   "cell_type": "code",
   "execution_count": null,
   "id": "349bdb37-53d8-4711-ae91-145d0e10e18d",
   "metadata": {},
   "outputs": [],
   "source": [
    "# Check the distributions and outliers of teh other variables\n",
    "#Plot 1 - Trade Volume\n",
    "plt.subplot(4,4,1)\n",
    "plt.hist(model['trade-volume'],edgecolor='black', linewidth=1.2)\n",
    "plt.title('1')\n",
    "\n",
    "#Plot 2 - Average Confirmation Time\n",
    "plt.subplot(4,4,2)\n",
    "plt.hist(model['avg-confirmation-time'],edgecolor='black', linewidth=1.2)\n",
    "plt.title('2')\n",
    "\n",
    "#Plot 2 - difficulty\n",
    "plt.subplot(4,4,3)\n",
    "plt.hist(model['difficulty'],edgecolor='black', linewidth=1.2)\n",
    "plt.title('3')\n",
    "\n",
    "#Plot 4 - Hash rate\n",
    "plt.subplot(4,4,4)\n",
    "plt.hist(model['hash-rate'],edgecolor='black', linewidth=1.2)\n",
    "plt.title('4')\n",
    "\n",
    "#Plot 5 - block size\n",
    "plt.subplot(4,4,5)\n",
    "plt.hist(model['block-size'],edgecolor='black', linewidth=1.2)\n",
    "plt.title('5')\n",
    "\n",
    "#Plot 6 - total of transactions\n",
    "plt.subplot(4,4,6)\n",
    "plt.hist(model['n-transactions-total'],edgecolor='black', linewidth=1.2)\n",
    "plt.title('6')\n",
    "\n",
    "#Plot 7 - number of payments per block\n",
    "plt.subplot(4,4,7)\n",
    "plt.hist(model['n-payments-per-block'],edgecolor='black', linewidth=1.2)\n",
    "plt.title('7')\n",
    "          \n",
    "#Plot 8 - block size\n",
    "plt.subplot(4,4,8)\n",
    "plt.hist(model['block-size'],edgecolor='black', linewidth=1.2)\n",
    "plt.title('8')\n",
    "          \n",
    "#Plot 9 - Total of BTC circulating\n",
    "plt.subplot(4,4,9)\n",
    "plt.hist(model['Total-circulating-BTC'],edgecolor='black', linewidth=1.2)\n",
    "plt.title('9')\n",
    "          \n",
    "#Plot 10 - number of unique addresses\n",
    "plt.subplot(4,4,10)\n",
    "plt.hist(model['n-unique-addresses'],edgecolor='black', linewidth=1.2)\n",
    "plt.title('10')\n",
    "          \n",
    "#Plot 11 - number of transactions per block\n",
    "plt.subplot(4,4,11)\n",
    "plt.hist(model['n-transactions-per-block'],edgecolor='black', linewidth=1.2)\n",
    "plt.title('11')\n",
    "          \n",
    "#Plot 12 - output volume\n",
    "plt.subplot(4,4,12)\n",
    "plt.hist(model['output-volume'],edgecolor='black', linewidth=1.2)\n",
    "plt.title('12')\n",
    "          \n",
    "#Plot 13 - Gold\n",
    "plt.subplot(4,4,13)\n",
    "plt.hist(model['Gold'],edgecolor='black', linewidth=1.2)\n",
    "plt.title('13')\n",
    "\n",
    "#Plot 14 - S&P500\n",
    "plt.subplot(4,4,14)\n",
    "plt.hist(model['SP500'],edgecolor='black', linewidth=1.2)\n",
    "plt.title('14')\n",
    "          \n",
    "#Plot 15 - Oil\n",
    "plt.subplot(4,4,15)\n",
    "plt.hist(model['Oil'],edgecolor='black', linewidth=1.2)\n",
    "plt.title('15')\n",
    "          \n",
    "#Plot 16 - Theft\n",
    "plt.subplot(4,4,16)\n",
    "plt.hist(model['Theft'],edgecolor='black', linewidth=1.2)\n",
    "plt.title('16')"
   ]
  },
  {
   "cell_type": "markdown",
   "id": "500a8a9e-5f6b-459e-b833-bdeb0b4af349",
   "metadata": {},
   "source": [
    "*The plots number 1,2,3,4,9,10,12,13,14 are skewed. Thefore,it seems reasonable to use log transformation for all these plots.In the other situations, the log transformation does not make the desired improvements. Consequently, it will not be applied for those cases.*"
   ]
  },
  {
   "cell_type": "code",
   "execution_count": null,
   "id": "fb6e298b-693b-420b-9f83-3fb046bedd6c",
   "metadata": {},
   "outputs": [],
   "source": [
    "# Log transformation\n",
    "model['trade-volume']=np.log(model['trade-volume'])\n",
    "model['avg-confirmation-time']=np.log(model['avg-confirmation-time'])\n",
    "model['difficulty']=np.log(model['difficulty'])\n",
    "model['hash-rate']=np.log(model['hash-rate'])\n",
    "model['Total-circulating-BTC']=np.log(model['Total-circulating-BTC'])\n",
    "model['n-unique-addresses']=np.log(model['n-unique-addresses'])\n",
    "model['output-volume']=np.log(model['output-volume'])\n",
    "model['Gold']=np.log(model['Gold'])\n",
    "model['SP500']=np.log(model['SP500'])\n",
    "\n",
    "# Rename the variables\n",
    "model = model.rename(columns={'trade-volume': 'lg_trade-volume'})\n",
    "model = model.rename(columns={'avg-confirmation-time': 'lg_avg-confirmation-time'})\n",
    "model = model.rename(columns={'difficulty': 'lg_difficulty'})\n",
    "model = model.rename(columns={'hash-rate': 'lg_hash-rate'})\n",
    "model = model.rename(columns={'Total-circulating-BTC': 'lg_circulatingBTC'})\n",
    "model = model.rename(columns={'n-unique-adresses': 'lg_n-unique-adresses'})\n",
    "model = model.rename(columns={'trade-volume': 'lg_trade-volume'})\n",
    "model = model.rename(columns={'output-volume': 'lg_output-volume'})\n",
    "model = model.rename(columns={'Gold': 'lg_Gold'})\n",
    "model = model.rename(columns={'SP500': 'lg_SP500'})"
   ]
  },
  {
   "cell_type": "code",
   "execution_count": null,
   "id": "5bb2d474-a82c-471f-9fac-68e4f6f9980f",
   "metadata": {},
   "outputs": [],
   "source": [
    "# Export the dataset to Excelthat will be used to modelling\n",
    "model.to_excel('C:/Users/sofia/OneDrive/Desktop/CLSBE/2nd year/Tese/data/model/model.xlsx')"
   ]
  },
  {
   "cell_type": "code",
   "execution_count": null,
   "id": "8d657341-6d14-416c-8cda-417911959005",
   "metadata": {},
   "outputs": [],
   "source": [
    "# Plotting the the log of Bitcoin price vs the log of Gold price between 2017 and 2021\n",
    "date = model['lg_price'].index\n",
    "value = model['lg_price']\n",
    "value1 = model['lg_Gold']\n",
    "value2 = model['lg_SP500']\n",
    "fig, ax = plt.subplots(figsize=(4, 3))\n",
    "year_locator = mdates.YearLocator()\n",
    "ax.xaxis.set_major_locator(year_locator) # Locator for major axis only.\n",
    "ax.plot(date, value,value1);\n",
    "plt.title('The evolution of the log of Bitcoin price and the log of Gold price')\n",
    "plt.savefig('C:/Users/sofia/OneDrive/Desktop/CLSBE/2nd year/Tese/Figuras/BTCvsGold.jpg') # save this figure to use in the thesis\n",
    "\n",
    "# Plotting the log of Bitcoin price vs the log of SP500 price between 2017 and 2021\n",
    "fig, ax = plt.subplots(figsize=(4, 3))\n",
    "year_locator = mdates.YearLocator()\n",
    "ax.xaxis.set_major_locator(year_locator) # Locator for major axis only.\n",
    "ax.plot(date, value,color='purple')\n",
    "ax.plot(date, value2,color='yellow')\n",
    "plt.title('The evolution of the log of Bitcoin price and the log of S&P500 index')\n",
    "plt.savefig('C:/Users/sofia/OneDrive/Desktop/CLSBE/2nd year/Tese/Figuras/BTCvsSP500.jpg') # save this figure to use in the thesis\n",
    "plt.show() # Plot the graph so we can see the results"
   ]
  },
  {
   "cell_type": "code",
   "execution_count": null,
   "id": "5bb7ebfb-bdde-4d0d-a8de-a8f779254282",
   "metadata": {},
   "outputs": [],
   "source": [
    "# PLot number of transactions of BTC over time\n",
    "date = final['n-transactions-total'].index\n",
    "value = final['n-transactions-total']\n",
    "fig, ax = plt.subplots(figsize=(8, 6))\n",
    "year_locator = mdates.YearLocator()\n",
    "ax.xaxis.set_major_locator(year_locator) # Locator for major axis only.\n",
    "ax.plot(date, value,color='orange');\n",
    "plt.title('The evolution of the number of transactions')\n",
    "plt.savefig('C:/Users/sofia/OneDrive/Desktop/CLSBE/2nd year/Tese/Figuras/n_transactions.jpg') # save this figure to use in the thesis\n",
    "plt.show() # Plot the graph so we can see the results"
   ]
  },
  {
   "cell_type": "markdown",
   "id": "dd1f1d29-d5d9-4a56-b063-1723fbb89816",
   "metadata": {},
   "source": [
    "*This plot shows that there is clearly a peak in 2020 on the number of BTC transactions and since then the variable is still decreasing.*"
   ]
  },
  {
   "cell_type": "code",
   "execution_count": null,
   "id": "c2c11029-925e-48e6-9fa9-a27025a66135",
   "metadata": {},
   "outputs": [],
   "source": [
    "# Finding which keyword associated with Bitcoin that is more frequent in Google Trends\n",
    "# Bitcoin+legal - POSITIVE SENTIMENT\n",
    "plt.subplot(1,3,1)\n",
    "sns.boxplot(y='GT_legal',data=model,color='orange')\n",
    "plt.ylim(1, 26)\n",
    "plt.ylabel('')\n",
    "plt.title('legal')\n",
    "\n",
    "# Bitcoin+cryptocurrency - NEUTRAL SENTIMENT\n",
    "plt.subplot(1,3,2)\n",
    "sns.boxplot(y='GT_cryptocurrency',data=model)\n",
    "plt.ylim(1, 26)\n",
    "plt.ylabel('')\n",
    "plt.title('cryptocurrency')\n",
    "\n",
    "# Bitcoin+scam - NEGATIVE SENTIMENT\n",
    "plt.subplot(1,3,3)\n",
    "sns.boxplot(y='GT_scam',data=model, color='yellow')\n",
    "plt.ylim(1, 26)\n",
    "plt.ylabel('')\n",
    "plt.title('scam')\n",
    "\n",
    "# Save this figure to use in the thesis\n",
    "plt.savefig('C:/Users/sofia/OneDrive/Desktop/CLSBE/2nd year/Tese/Figuras/GT_boxplots.jpg') "
   ]
  },
  {
   "cell_type": "markdown",
   "id": "0cd1e617-10f7-408d-89da-f3232db1257f",
   "metadata": {},
   "source": [
    "*It seems that, on average, the neutral sentiment regarding Bitcoin is the more predominat, comparing to the positive sentiment and the negative sentiment expressed through Google searches.*"
   ]
  },
  {
   "cell_type": "code",
   "execution_count": null,
   "id": "f2dff703-7ce8-43c8-aa3a-456f85d052b0",
   "metadata": {
    "tags": []
   },
   "outputs": [],
   "source": [
    "model.corr()[['lg_price']].sort_values(by='lg_price', ascending=False)\n",
    "plt.figure(figsize=(8, 12))\n",
    "heatmap = sns.heatmap(model.corr()[['lg_price']].sort_values(by='lg_price', ascending=False), vmin=-1, vmax=1, annot=True, cmap=\"YlOrBr\")\n",
    "heatmap.set_title('Features Correlating with the log of Bitcoin Price', fontdict={'fontsize':18}, pad=16);\n",
    "# save this figure to use in the thesis\n",
    "plt.savefig('C:/Users/sofia/OneDrive/Desktop/CLSBE/2nd year/Tese/Figuras/wr_corr_heatmap.png') "
   ]
  },
  {
   "cell_type": "markdown",
   "id": "adbad60f-646e-4054-8bac-b85b1a2bf49b",
   "metadata": {
    "tags": []
   },
   "source": [
    "*Most important conclusions obtained from this correlations heatmap:*\n",
    "\n",
    "*1. The log of SP500 presents the highest correlation in the log of BTC price and it is not a transactions-based variable.*\n",
    "\n",
    "*2. Although \"legal\" is not the most frequent Google Trend keyword, comparing to the other two, it is the most correlated one with BTC price. Note that this keyword represents a positive sentiment regarding Bitcoin.*\n",
    "\n",
    "*3. An interesting fact is that when consumers' confidence index increases, which reflects a positive sentiment about the general economic situation, unemployment and capability of savings, the log of BTC price decreases. In this case, will they demand substitute assets of BTC?*\n",
    "\n",
    "*4. There are transaction-based variables that are not highly correlated with the log of BTC price, as it had been expected, namely the log of market capitalisation.*"
   ]
  },
  {
   "cell_type": "markdown",
   "id": "19cd12a2-8fb6-40d6-bdc7-0db6e7aecb75",
   "metadata": {},
   "source": [
    "### 2.2 - Time series"
   ]
  },
  {
   "cell_type": "code",
   "execution_count": 41,
   "id": "526ddc83-6146-4c8f-90d7-4ac4ad560f52",
   "metadata": {},
   "outputs": [
    {
     "data": {
      "text/plain": [
       "Forecaster(\n",
       "    DateStartActuals=2017-01-01T00:00:00.000000000\n",
       "    DateEndActuals=2021-06-04T00:00:00.000000000\n",
       "    Freq=None\n",
       "    N_actuals=1615\n",
       "    ForecastLength=0\n",
       "    Xvars=[]\n",
       "    Differenced=0\n",
       "    TestLength=1\n",
       "    ValidationLength=1\n",
       "    ValidationMetric=rmse\n",
       "    ForecastsEvaluated=[]\n",
       "    CILevel=0.95\n",
       "    BootstrapSamples=100\n",
       "    CurrentEstimator=None\n",
       "    GridsFile=Grids\n",
       ")"
      ]
     },
     "execution_count": 41,
     "metadata": {},
     "output_type": "execute_result"
    }
   ],
   "source": [
    "f = Forecaster(y=model['lg_price'],\n",
    "                   current_dates=model.index)\n",
    "f"
   ]
  },
  {
   "cell_type": "code",
   "execution_count": 42,
   "id": "33bfd2df-b1e4-44b1-978d-16cd95945b1d",
   "metadata": {},
   "outputs": [
    {
     "data": {
      "image/png": "[encoded data removed]",
      "text/plain": [
       "<Figure size 432x288 with 1 Axes>"
      ]
     },
     "metadata": {
      "needs_background": "light"
     },
     "output_type": "display_data"
    }
   ],
   "source": [
    "f.plot_pacf(lags=26)\n",
    "plt.show()"
   ]
  },
  {
   "cell_type": "markdown",
   "id": "5621f039-3ea0-4fb4-8109-a8d480238a6f",
   "metadata": {},
   "source": [
    "*It was decomposed this time series by viewing the PACF (Partial Auto Correlation Function) plot, which measures how much the y variable (lg_price) is correlated to past values of itself and how far back a statistically significant correlation exists. The PACF plot is different from the ACF plot in that PACF controls for correlation between past terms. It is good to view both, but only PACF will be displayed here.*"
   ]
  },
  {
   "cell_type": "markdown",
   "id": "5650789f-0047-41d1-aa8c-e7b9a57ebf89",
   "metadata": {},
   "source": [
    "*This plot indicates a statistically significant correlation may exist up to two years in the data. That will be good information to use when modeling. Let’s further decompose the series into its trend, seasonal, and residual parts:*"
   ]
  },
  {
   "cell_type": "code",
   "execution_count": 134,
   "id": "3b7618c9-ee28-4034-b728-74127b05901a",
   "metadata": {},
   "outputs": [
    {
     "data": {
      "image/png": "[encoded data removed]",
      "text/plain": [
       "<Figure size 432x288 with 4 Axes>"
      ]
     },
     "metadata": {
      "needs_background": "light"
     },
     "output_type": "display_data"
    }
   ],
   "source": [
    "f.seasonal_decompose(period=365).plot()\n",
    "plt.show()"
   ]
  },
  {
   "cell_type": "markdown",
   "id": "673b28c7-02a4-47b6-87ab-a5789b11d938",
   "metadata": {},
   "source": [
    "*Firstly, the second plot shows a a growing trend, but it is not linear.*\n",
    "\n",
    "*Secondly, the next graph indicates the existence of seasonality in this data.*\n",
    "\n",
    "*FInally, the residuals does not present a pattern.*"
   ]
  },
  {
   "cell_type": "code",
   "execution_count": 44,
   "id": "92223b2a-7ec4-43f9-ae19-4ef5db6ff310",
   "metadata": {},
   "outputs": [
    {
     "name": "stdout",
     "output_type": "stream",
     "text": [
      "-1.3456970510343018 0.608015394647876\n"
     ]
    }
   ],
   "source": [
    "stat, pval, _, _, _, _ = f.adf_test(full_res=True)\n",
    "print(stat,pval)"
   ]
  },
  {
   "cell_type": "markdown",
   "id": "5f1e0a22-ca5f-4e63-83ed-dfba0cc552dd",
   "metadata": {},
   "source": [
    "*In this case, the trend is pretty clearly non-stationary as it is increasing upward year-after-year. In addition, the results of the Augmented Dickey-Fuller (ACF) test give statistical justification to what our eyes see. Since the p-value is not less than 0.05, we must assume the series is non-stationary.*"
   ]
  },
  {
   "cell_type": "markdown",
   "id": "8ec3aab9-c2f0-481f-a68a-805cfa7eacc1",
   "metadata": {},
   "source": [
    "## 3. MODELLING"
   ]
  },
  {
   "cell_type": "code",
   "execution_count": 27,
   "id": "32d13d8b-05fa-4f81-9b3c-76128ff1ebf2",
   "metadata": {},
   "outputs": [
    {
     "data": {
      "text/html": [
       "<div>\n",
       "<style scoped>\n",
       "    .dataframe tbody tr th:only-of-type {\n",
       "        vertical-align: middle;\n",
       "    }\n",
       "\n",
       "    .dataframe tbody tr th {\n",
       "        vertical-align: top;\n",
       "    }\n",
       "\n",
       "    .dataframe thead th {\n",
       "        text-align: right;\n",
       "    }\n",
       "</style>\n",
       "<table border=\"1\" class=\"dataframe\">\n",
       "  <thead>\n",
       "    <tr style=\"text-align: right;\">\n",
       "      <th></th>\n",
       "      <th>lg_price</th>\n",
       "      <th>lg_market-cap</th>\n",
       "      <th>lg_trade-volume</th>\n",
       "      <th>lg_transaction-fees-usd</th>\n",
       "      <th>lg_avg-confirmation-time</th>\n",
       "      <th>lg_difficulty</th>\n",
       "      <th>lg_High</th>\n",
       "      <th>lg_Low</th>\n",
       "      <th>lg_hash-rate</th>\n",
       "      <th>block-size</th>\n",
       "      <th>...</th>\n",
       "      <th>lg_output-volume</th>\n",
       "      <th>Confidence</th>\n",
       "      <th>lg_Gold</th>\n",
       "      <th>News Regulation</th>\n",
       "      <th>GT_legal</th>\n",
       "      <th>GT_cryptocurrency</th>\n",
       "      <th>GT_scam</th>\n",
       "      <th>lg_SP500</th>\n",
       "      <th>Oil</th>\n",
       "      <th>Theft</th>\n",
       "    </tr>\n",
       "    <tr>\n",
       "      <th>Timestamp</th>\n",
       "      <th></th>\n",
       "      <th></th>\n",
       "      <th></th>\n",
       "      <th></th>\n",
       "      <th></th>\n",
       "      <th></th>\n",
       "      <th></th>\n",
       "      <th></th>\n",
       "      <th></th>\n",
       "      <th></th>\n",
       "      <th></th>\n",
       "      <th></th>\n",
       "      <th></th>\n",
       "      <th></th>\n",
       "      <th></th>\n",
       "      <th></th>\n",
       "      <th></th>\n",
       "      <th></th>\n",
       "      <th></th>\n",
       "      <th></th>\n",
       "      <th></th>\n",
       "    </tr>\n",
       "  </thead>\n",
       "  <tbody>\n",
       "    <tr>\n",
       "      <th>2017-01-01</th>\n",
       "      <td>6.921086</td>\n",
       "      <td>23.527405</td>\n",
       "      <td>15.376856</td>\n",
       "      <td>11.651582</td>\n",
       "      <td>2.566197</td>\n",
       "      <td>26.484337</td>\n",
       "      <td>6.921086</td>\n",
       "      <td>6.862863</td>\n",
       "      <td>14.767149</td>\n",
       "      <td>97293.875547</td>\n",
       "      <td>...</td>\n",
       "      <td>14.342027</td>\n",
       "      <td>100.5115</td>\n",
       "      <td>7.083472</td>\n",
       "      <td>0</td>\n",
       "      <td>1.0</td>\n",
       "      <td>2</td>\n",
       "      <td>1</td>\n",
       "      <td>7.729786</td>\n",
       "      <td>52.51</td>\n",
       "      <td>266.0</td>\n",
       "    </tr>\n",
       "    <tr>\n",
       "      <th>2017-01-02</th>\n",
       "      <td>6.921086</td>\n",
       "      <td>23.527405</td>\n",
       "      <td>15.376856</td>\n",
       "      <td>11.651582</td>\n",
       "      <td>4.578962</td>\n",
       "      <td>26.484337</td>\n",
       "      <td>6.938963</td>\n",
       "      <td>6.897907</td>\n",
       "      <td>14.767149</td>\n",
       "      <td>97293.875547</td>\n",
       "      <td>...</td>\n",
       "      <td>14.342027</td>\n",
       "      <td>100.5115</td>\n",
       "      <td>7.083472</td>\n",
       "      <td>0</td>\n",
       "      <td>1.0</td>\n",
       "      <td>2</td>\n",
       "      <td>1</td>\n",
       "      <td>7.729786</td>\n",
       "      <td>52.51</td>\n",
       "      <td>266.0</td>\n",
       "    </tr>\n",
       "    <tr>\n",
       "      <th>2017-01-03</th>\n",
       "      <td>6.921086</td>\n",
       "      <td>23.527405</td>\n",
       "      <td>15.376856</td>\n",
       "      <td>11.651582</td>\n",
       "      <td>2.799824</td>\n",
       "      <td>26.484337</td>\n",
       "      <td>6.942640</td>\n",
       "      <td>6.914234</td>\n",
       "      <td>14.767149</td>\n",
       "      <td>97293.875547</td>\n",
       "      <td>...</td>\n",
       "      <td>14.342027</td>\n",
       "      <td>100.5115</td>\n",
       "      <td>7.083472</td>\n",
       "      <td>0</td>\n",
       "      <td>1.0</td>\n",
       "      <td>2</td>\n",
       "      <td>1</td>\n",
       "      <td>7.729786</td>\n",
       "      <td>52.51</td>\n",
       "      <td>266.0</td>\n",
       "    </tr>\n",
       "    <tr>\n",
       "      <th>2017-01-04</th>\n",
       "      <td>6.907405</td>\n",
       "      <td>23.590040</td>\n",
       "      <td>15.583291</td>\n",
       "      <td>11.651582</td>\n",
       "      <td>3.614366</td>\n",
       "      <td>26.484337</td>\n",
       "      <td>7.046212</td>\n",
       "      <td>6.907405</td>\n",
       "      <td>14.748687</td>\n",
       "      <td>97743.656720</td>\n",
       "      <td>...</td>\n",
       "      <td>14.402047</td>\n",
       "      <td>100.5115</td>\n",
       "      <td>7.083472</td>\n",
       "      <td>0</td>\n",
       "      <td>1.0</td>\n",
       "      <td>2</td>\n",
       "      <td>1</td>\n",
       "      <td>7.729786</td>\n",
       "      <td>52.51</td>\n",
       "      <td>266.0</td>\n",
       "    </tr>\n",
       "    <tr>\n",
       "      <th>2017-01-05</th>\n",
       "      <td>6.907405</td>\n",
       "      <td>23.590040</td>\n",
       "      <td>15.583291</td>\n",
       "      <td>11.711432</td>\n",
       "      <td>2.841877</td>\n",
       "      <td>26.484337</td>\n",
       "      <td>7.048039</td>\n",
       "      <td>6.773652</td>\n",
       "      <td>14.579937</td>\n",
       "      <td>97743.656720</td>\n",
       "      <td>...</td>\n",
       "      <td>14.402047</td>\n",
       "      <td>100.5115</td>\n",
       "      <td>7.083472</td>\n",
       "      <td>0</td>\n",
       "      <td>1.0</td>\n",
       "      <td>2</td>\n",
       "      <td>1</td>\n",
       "      <td>7.729786</td>\n",
       "      <td>52.51</td>\n",
       "      <td>266.0</td>\n",
       "    </tr>\n",
       "  </tbody>\n",
       "</table>\n",
       "<p>5 rows × 30 columns</p>\n",
       "</div>"
      ],
      "text/plain": [
       "            lg_price  lg_market-cap  lg_trade-volume  lg_transaction-fees-usd  \\\n",
       "Timestamp                                                                       \n",
       "2017-01-01  6.921086      23.527405        15.376856                11.651582   \n",
       "2017-01-02  6.921086      23.527405        15.376856                11.651582   \n",
       "2017-01-03  6.921086      23.527405        15.376856                11.651582   \n",
       "2017-01-04  6.907405      23.590040        15.583291                11.651582   \n",
       "2017-01-05  6.907405      23.590040        15.583291                11.711432   \n",
       "\n",
       "            lg_avg-confirmation-time  lg_difficulty   lg_High    lg_Low  \\\n",
       "Timestamp                                                                 \n",
       "2017-01-01                  2.566197      26.484337  6.921086  6.862863   \n",
       "2017-01-02                  4.578962      26.484337  6.938963  6.897907   \n",
       "2017-01-03                  2.799824      26.484337  6.942640  6.914234   \n",
       "2017-01-04                  3.614366      26.484337  7.046212  6.907405   \n",
       "2017-01-05                  2.841877      26.484337  7.048039  6.773652   \n",
       "\n",
       "            lg_hash-rate    block-size  ...  lg_output-volume  Confidence  \\\n",
       "Timestamp                               ...                                 \n",
       "2017-01-01     14.767149  97293.875547  ...         14.342027    100.5115   \n",
       "2017-01-02     14.767149  97293.875547  ...         14.342027    100.5115   \n",
       "2017-01-03     14.767149  97293.875547  ...         14.342027    100.5115   \n",
       "2017-01-04     14.748687  97743.656720  ...         14.402047    100.5115   \n",
       "2017-01-05     14.579937  97743.656720  ...         14.402047    100.5115   \n",
       "\n",
       "             lg_Gold  News Regulation  GT_legal  GT_cryptocurrency  GT_scam  \\\n",
       "Timestamp                                                                     \n",
       "2017-01-01  7.083472                0       1.0                  2        1   \n",
       "2017-01-02  7.083472                0       1.0                  2        1   \n",
       "2017-01-03  7.083472                0       1.0                  2        1   \n",
       "2017-01-04  7.083472                0       1.0                  2        1   \n",
       "2017-01-05  7.083472                0       1.0                  2        1   \n",
       "\n",
       "            lg_SP500    Oil  Theft  \n",
       "Timestamp                           \n",
       "2017-01-01  7.729786  52.51  266.0  \n",
       "2017-01-02  7.729786  52.51  266.0  \n",
       "2017-01-03  7.729786  52.51  266.0  \n",
       "2017-01-04  7.729786  52.51  266.0  \n",
       "2017-01-05  7.729786  52.51  266.0  \n",
       "\n",
       "[5 rows x 30 columns]"
      ]
     },
     "execution_count": 27,
     "metadata": {},
     "output_type": "execute_result"
    }
   ],
   "source": [
    "# Reading the model dataset\n",
    "model = pd.read_excel('C:/Users/sofia/OneDrive/Desktop/CLSBE/2nd year/Tese/data/model/model.xlsx',index_col=0)\n",
    "\n",
    "#Check the first observations\n",
    "model.head()"
   ]
  },
  {
   "cell_type": "markdown",
   "id": "65596aae-74f6-4b62-863e-53db77026e3d",
   "metadata": {},
   "source": [
    "### 3.1 Linear regression"
   ]
  },
  {
   "cell_type": "markdown",
   "id": "d9b97c71-435b-4007-8874-7370034f9a68",
   "metadata": {},
   "source": [
    "**3.1.1 - Model formulation**"
   ]
  },
  {
   "cell_type": "code",
   "execution_count": 28,
   "id": "8ab32f86-4335-4b43-9607-c08285d44c0e",
   "metadata": {},
   "outputs": [
    {
     "name": "stdout",
     "output_type": "stream",
     "text": [
      "(1615, 30)\n"
     ]
    }
   ],
   "source": [
    "# Check the dimentions of the model dataset\n",
    "print(model.shape)"
   ]
  },
  {
   "cell_type": "code",
   "execution_count": 29,
   "id": "1d047ab5-362e-45b6-83ec-65b352fa8c56",
   "metadata": {},
   "outputs": [],
   "source": [
    "# define the data/predictors as the pre-set feature names  \n",
    "X=model.iloc[:,1:31]\n",
    "\n",
    "# Put the target (lg_price) in another DataFrame\n",
    "target = model[\"lg_price\"]"
   ]
  },
  {
   "cell_type": "code",
   "execution_count": 5,
   "id": "c727538e-2c08-4f0d-900a-691c3dcbe3b1",
   "metadata": {},
   "outputs": [
    {
     "name": "stdout",
     "output_type": "stream",
     "text": [
      "(1292, 30) (1292,)\n",
      "(323, 30) (323,)\n"
     ]
    }
   ],
   "source": [
    "# Define the variables\n",
    "y = target ## Y usually means our output/dependent variable\n",
    "X = sm.add_constant(X) ## let's add an intercept (beta_0) to our model\n",
    "\n",
    "# create training and testing vars\n",
    "X_train, X_test, y_train, y_test = train_test_split(X, y, test_size=0.2)\n",
    "print(X_train.shape, y_train.shape)\n",
    "print(X_test.shape, y_test.shape)\n",
    "\n",
    "# fit a model\n",
    "lm = linear_model.LinearRegression()\n",
    "fit = lm.fit(X_train, y_train)\n",
    "predictions = lm.predict(X_test)"
   ]
  },
  {
   "cell_type": "code",
   "execution_count": 6,
   "id": "ad5a999f-888c-4ceb-b445-b8307ef560c1",
   "metadata": {},
   "outputs": [
    {
     "data": {
      "text/plain": [
       "array([ 7.10401931, 10.82735255,  9.33477236,  8.79408494, 10.81209741])"
      ]
     },
     "execution_count": 6,
     "metadata": {},
     "output_type": "execute_result"
    }
   ],
   "source": [
    "predictions[0:5]"
   ]
  },
  {
   "cell_type": "code",
   "execution_count": 7,
   "id": "aa62e0f5-f631-4b24-b336-12cf3a049a8e",
   "metadata": {},
   "outputs": [
    {
     "data": {
      "text/plain": [
       "Text(0, 0.5, 'Predictions')"
      ]
     },
     "execution_count": 7,
     "metadata": {},
     "output_type": "execute_result"
    },
    {
     "data": {
      "image/png": "[encoded data removed]",
      "text/plain": [
       "<Figure size 432x288 with 1 Axes>"
      ]
     },
     "metadata": {
      "needs_background": "light"
     },
     "output_type": "display_data"
    }
   ],
   "source": [
    "## The line / model\n",
    "plt.scatter(y_test, predictions)\n",
    "plt.xlabel('True Values')\n",
    "plt.ylabel('Predictions')"
   ]
  },
  {
   "cell_type": "code",
   "execution_count": 8,
   "id": "89dffed2-c08f-4154-98ee-500d36b9af83",
   "metadata": {},
   "outputs": [
    {
     "name": "stdout",
     "output_type": "stream",
     "text": [
      "Score:  0.9992338049903796\n"
     ]
    }
   ],
   "source": [
    "#Printing the score\n",
    "print('Score: ', fit.score(X_test, y_test))"
   ]
  },
  {
   "cell_type": "markdown",
   "id": "11e86aa5-19b9-49f7-9e75-e263ced50723",
   "metadata": {},
   "source": [
    "*The limitation of train/test split is if, by chance, the split made was not random.* \n",
    "\n",
    "*This will result in overfitting, even though it was tried to avoid it. Therefore, it is introduced cross validation.*"
   ]
  },
  {
   "cell_type": "code",
   "execution_count": 9,
   "id": "4316e4f1-76e5-4d4d-be61-466ad8e4f151",
   "metadata": {},
   "outputs": [
    {
     "name": "stdout",
     "output_type": "stream",
     "text": [
      "KFold(n_splits=2, random_state=None, shuffle=False)\n",
      "Cross-validated scores: [0.99440955 0.97983015 0.99861336 0.99861204 0.99433163 0.99495779]\n"
     ]
    }
   ],
   "source": [
    "# Cross Validation\n",
    "kf = KFold(n_splits=2, random_state=None, shuffle=False) # Define the split - into 2 folds \n",
    "kf.get_n_splits(X) # returns the number of splitting iterations in the cross-validator\n",
    "print(kf) \n",
    "\n",
    "scores = cross_val_score(fit, X, y, cv=6)\n",
    "print('Cross-validated scores:', scores)"
   ]
  },
  {
   "cell_type": "code",
   "execution_count": 10,
   "id": "eec13474-0b90-4493-91db-97e7bb4eb855",
   "metadata": {},
   "outputs": [
    {
     "data": {
      "text/html": [
       "<div>\n",
       "<style scoped>\n",
       "    .dataframe tbody tr th:only-of-type {\n",
       "        vertical-align: middle;\n",
       "    }\n",
       "\n",
       "    .dataframe tbody tr th {\n",
       "        vertical-align: top;\n",
       "    }\n",
       "\n",
       "    .dataframe thead th {\n",
       "        text-align: right;\n",
       "    }\n",
       "</style>\n",
       "<table border=\"1\" class=\"dataframe\">\n",
       "  <thead>\n",
       "    <tr style=\"text-align: right;\">\n",
       "      <th></th>\n",
       "      <th>coefficient</th>\n",
       "    </tr>\n",
       "  </thead>\n",
       "  <tbody>\n",
       "    <tr>\n",
       "      <th>const</th>\n",
       "      <td>8.208659e+02</td>\n",
       "    </tr>\n",
       "    <tr>\n",
       "      <th>lg_Open</th>\n",
       "      <td>6.204161e-01</td>\n",
       "    </tr>\n",
       "    <tr>\n",
       "      <th>lg_Low</th>\n",
       "      <td>1.907514e-01</td>\n",
       "    </tr>\n",
       "    <tr>\n",
       "      <th>lg_High</th>\n",
       "      <td>1.737175e-01</td>\n",
       "    </tr>\n",
       "    <tr>\n",
       "      <th>lg_Gold</th>\n",
       "      <td>2.682499e-02</td>\n",
       "    </tr>\n",
       "    <tr>\n",
       "      <th>lg_transaction-fees-usd</th>\n",
       "      <td>1.452432e-02</td>\n",
       "    </tr>\n",
       "    <tr>\n",
       "      <th>News Regulation</th>\n",
       "      <td>8.982242e-03</td>\n",
       "    </tr>\n",
       "    <tr>\n",
       "      <th>lg_market-cap</th>\n",
       "      <td>8.839721e-03</td>\n",
       "    </tr>\n",
       "    <tr>\n",
       "      <th>lg_trade-volume</th>\n",
       "      <td>1.291998e-03</td>\n",
       "    </tr>\n",
       "    <tr>\n",
       "      <th>GT_scam</th>\n",
       "      <td>1.080469e-03</td>\n",
       "    </tr>\n",
       "    <tr>\n",
       "      <th>lg_avg-confirmation-time</th>\n",
       "      <td>8.462888e-04</td>\n",
       "    </tr>\n",
       "    <tr>\n",
       "      <th>Confidence</th>\n",
       "      <td>5.667828e-04</td>\n",
       "    </tr>\n",
       "    <tr>\n",
       "      <th>Oil</th>\n",
       "      <td>5.479683e-04</td>\n",
       "    </tr>\n",
       "    <tr>\n",
       "      <th>lg_cost-per-transaction-percent</th>\n",
       "      <td>4.905803e-04</td>\n",
       "    </tr>\n",
       "    <tr>\n",
       "      <th>lg_SP500</th>\n",
       "      <td>3.474586e-04</td>\n",
       "    </tr>\n",
       "    <tr>\n",
       "      <th>GT_cryptocurrency</th>\n",
       "      <td>1.524419e-04</td>\n",
       "    </tr>\n",
       "    <tr>\n",
       "      <th>Theft</th>\n",
       "      <td>1.481577e-05</td>\n",
       "    </tr>\n",
       "    <tr>\n",
       "      <th>n-payments-per-block</th>\n",
       "      <td>1.061296e-06</td>\n",
       "    </tr>\n",
       "    <tr>\n",
       "      <th>n-transactions-per-block</th>\n",
       "      <td>1.105990e-08</td>\n",
       "    </tr>\n",
       "    <tr>\n",
       "      <th>n-transactions-total</th>\n",
       "      <td>5.436698e-10</td>\n",
       "    </tr>\n",
       "    <tr>\n",
       "      <th>miners-revenue</th>\n",
       "      <td>8.899032e-11</td>\n",
       "    </tr>\n",
       "    <tr>\n",
       "      <th>block-size</th>\n",
       "      <td>-7.559197e-07</td>\n",
       "    </tr>\n",
       "    <tr>\n",
       "      <th>Popularity</th>\n",
       "      <td>-3.976628e-05</td>\n",
       "    </tr>\n",
       "    <tr>\n",
       "      <th>lg_output-volume</th>\n",
       "      <td>-3.135975e-03</td>\n",
       "    </tr>\n",
       "    <tr>\n",
       "      <th>n-unique-addresses</th>\n",
       "      <td>-4.413437e-03</td>\n",
       "    </tr>\n",
       "    <tr>\n",
       "      <th>lg_hash-rate</th>\n",
       "      <td>-4.430890e-03</td>\n",
       "    </tr>\n",
       "    <tr>\n",
       "      <th>GT_legal</th>\n",
       "      <td>-4.817843e-03</td>\n",
       "    </tr>\n",
       "    <tr>\n",
       "      <th>lg_circulatingBTC</th>\n",
       "      <td>-7.702931e-03</td>\n",
       "    </tr>\n",
       "    <tr>\n",
       "      <th>lg_difficulty</th>\n",
       "      <td>-9.377037e-03</td>\n",
       "    </tr>\n",
       "    <tr>\n",
       "      <th>lg_fees-usd-per-transaction</th>\n",
       "      <td>-1.463737e-02</td>\n",
       "    </tr>\n",
       "  </tbody>\n",
       "</table>\n",
       "</div>"
      ],
      "text/plain": [
       "                                  coefficient\n",
       "const                            8.208659e+02\n",
       "lg_Open                          6.204161e-01\n",
       "lg_Low                           1.907514e-01\n",
       "lg_High                          1.737175e-01\n",
       "lg_Gold                          2.682499e-02\n",
       "lg_transaction-fees-usd          1.452432e-02\n",
       "News Regulation                  8.982242e-03\n",
       "lg_market-cap                    8.839721e-03\n",
       "lg_trade-volume                  1.291998e-03\n",
       "GT_scam                          1.080469e-03\n",
       "lg_avg-confirmation-time         8.462888e-04\n",
       "Confidence                       5.667828e-04\n",
       "Oil                              5.479683e-04\n",
       "lg_cost-per-transaction-percent  4.905803e-04\n",
       "lg_SP500                         3.474586e-04\n",
       "GT_cryptocurrency                1.524419e-04\n",
       "Theft                            1.481577e-05\n",
       "n-payments-per-block             1.061296e-06\n",
       "n-transactions-per-block         1.105990e-08\n",
       "n-transactions-total             5.436698e-10\n",
       "miners-revenue                   8.899032e-11\n",
       "block-size                      -7.559197e-07\n",
       "Popularity                      -3.976628e-05\n",
       "lg_output-volume                -3.135975e-03\n",
       "n-unique-addresses              -4.413437e-03\n",
       "lg_hash-rate                    -4.430890e-03\n",
       "GT_legal                        -4.817843e-03\n",
       "lg_circulatingBTC               -7.702931e-03\n",
       "lg_difficulty                   -9.377037e-03\n",
       "lg_fees-usd-per-transaction     -1.463737e-02"
      ]
     },
     "execution_count": 10,
     "metadata": {},
     "output_type": "execute_result"
    }
   ],
   "source": [
    "# Getting the coefficients of the linear regression\n",
    "pd.DataFrame(lm.coef_, \n",
    "             X.columns, \n",
    "             columns=['coefficient'])\\\n",
    "            .sort_values(by='coefficient', ascending=False)"
   ]
  },
  {
   "cell_type": "markdown",
   "id": "b1126cbd-ca16-453e-915b-95ad2fefa18b",
   "metadata": {},
   "source": [
    "**3.1.2. - Evaluation metrics**"
   ]
  },
  {
   "cell_type": "code",
   "execution_count": 11,
   "id": "b0676b66-b62b-47ab-805b-f058a40be2ea",
   "metadata": {},
   "outputs": [
    {
     "name": "stdout",
     "output_type": "stream",
     "text": [
      "Mean Square Error:  0.0005746332921705514\n",
      "Root Mean Square Error:  0.02397151001022988\n",
      "sMAPE:  0.15874112565511508\n",
      "R^2 score:  0.9992338049903796\n"
     ]
    }
   ],
   "source": [
    "# 1. MSE - Mean Squared Error\n",
    "MSE = np.square(np.subtract(y_test,predictions)).mean() \n",
    "print(\"Mean Square Error: \", MSE)\n",
    "\n",
    "# 2. RMSE - Root Mean Square Error\n",
    "RMSE = math.sqrt(MSE)\n",
    "print(\"Root Mean Square Error: \", RMSE)\n",
    "\n",
    "# 3. sMAPE - symmetric Mean Absolute Percentage Error\n",
    "def smape(a, f):\n",
    "    return 1/len(a) * np.sum(2 * np.abs(f-a) / (np.abs(a) + np.abs(f))*100)\n",
    "sMAPE=smape(y_test,predictions)\n",
    "print('sMAPE: ',sMAPE)\n",
    "\n",
    "# 4. R^2 score\n",
    "r2_score = metrics.r2_score(y_test, predictions)\n",
    "print('R^2 score: ',r2_score)"
   ]
  },
  {
   "cell_type": "markdown",
   "id": "63421dd7-5639-49d9-b9fa-6160ed055bf3",
   "metadata": {},
   "source": [
    "### 3.2 - LSTM"
   ]
  },
  {
   "cell_type": "code",
   "execution_count": 117,
   "id": "246bcad9-076b-4392-a9c4-1a0a3700d8dd",
   "metadata": {},
   "outputs": [],
   "source": [
    "# Reading the model dataset\n",
    "model1 = pd.read_excel('C:/Users/sofia/OneDrive/Desktop/CLSBE/2nd year/Tese/data/model/model.xlsx',index_col=0)"
   ]
  },
  {
   "cell_type": "markdown",
   "id": "1f6b5ecf-d6af-4482-81a7-08cebd6c8119",
   "metadata": {},
   "source": [
    "* Data preparation:"
   ]
  },
  {
   "cell_type": "code",
   "execution_count": 158,
   "id": "47328fa9-de2e-4935-b02b-ee38c02f950a",
   "metadata": {},
   "outputs": [
    {
     "name": "stdout",
     "output_type": "stream",
     "text": [
      "1292 train sequences\n",
      "323 test sequences\n"
     ]
    }
   ],
   "source": [
    "# Splitting 80% for training and 20% for testing\n",
    "x_train = model1[:-323]\n",
    "len(train)\n",
    "x_test = model1[-323:]\n",
    "len(test)\n",
    "train_dates = train.index\n",
    "test_dates  = test.index\n",
    "\n",
    "print(len(x_train), 'train sequences')\n",
    "print(len(x_test), 'test sequences')\n",
    "\n",
    "prediction_days = 323\n",
    "scaler = MinMaxScaler(feature_range=(0,1))\n",
    "scaled_data = scaler.fit_transform(train['lg_price'].values.reshape(-1,1))\n",
    "\n",
    "x_train = []\n",
    "y_train = []\n",
    "\n",
    "for x in range(prediction_days, len(scaled_data)):\n",
    "    x_train.append(scaled_data[x-prediction_days:x, 0])\n",
    "    y_train.append(scaled_data[x, 0])\n",
    "\n",
    "\n",
    "x_train, y_train = np.array(x_train), np.array(y_train)\n",
    "x_train = np.reshape(x_train, (x_train.shape[0], x_train.shape[1], 1))"
   ]
  },
  {
   "cell_type": "markdown",
   "id": "7b7f435f-0025-4558-91d8-daff9329d1fb",
   "metadata": {},
   "source": [
    "* Build the model"
   ]
  },
  {
   "cell_type": "code",
   "execution_count": 159,
   "id": "d774fa1d-cd34-4817-a8d1-89570ee968a7",
   "metadata": {},
   "outputs": [
    {
     "name": "stdout",
     "output_type": "stream",
     "text": [
      "Model: \"sequential_26\"\n",
      "_________________________________________________________________\n",
      " Layer (type)                Output Shape              Param #   \n",
      "=================================================================\n",
      " lstm_58 (LSTM)              (None, 323, 128)          66560     \n",
      "                                                                 \n",
      " dropout_48 (Dropout)        (None, 323, 128)          0         \n",
      "                                                                 \n",
      " lstm_59 (LSTM)              (None, 323, 128)          131584    \n",
      "                                                                 \n",
      " dropout_49 (Dropout)        (None, 323, 128)          0         \n",
      "                                                                 \n",
      " lstm_60 (LSTM)              (None, 128)               131584    \n",
      "                                                                 \n",
      " dropout_50 (Dropout)        (None, 128)               0         \n",
      "                                                                 \n",
      " dense_26 (Dense)            (None, 1)                 129       \n",
      "                                                                 \n",
      "=================================================================\n",
      "Total params: 329,857\n",
      "Trainable params: 329,857\n",
      "Non-trainable params: 0\n",
      "_________________________________________________________________\n",
      "Epoch 1/25\n",
      "25/25 [==============================] - 49s 2s/step - loss: 0.1005 - val_loss: 0.0111\n",
      "Epoch 2/25\n",
      "25/25 [==============================] - 30s 1s/step - loss: 0.0079 - val_loss: 0.0021\n",
      "Epoch 3/25\n",
      "25/25 [==============================] - 32s 1s/step - loss: 0.0065 - val_loss: 0.0025\n",
      "Epoch 4/25\n",
      "25/25 [==============================] - 36s 1s/step - loss: 0.0059 - val_loss: 0.0040\n",
      "Epoch 5/25\n",
      "25/25 [==============================] - 33s 1s/step - loss: 0.0054 - val_loss: 0.0019\n",
      "Epoch 6/25\n",
      "25/25 [==============================] - 29s 1s/step - loss: 0.0056 - val_loss: 0.0017\n",
      "Epoch 7/25\n",
      "25/25 [==============================] - 34s 1s/step - loss: 0.0052 - val_loss: 0.0016\n",
      "Epoch 8/25\n",
      "25/25 [==============================] - 35s 1s/step - loss: 0.0050 - val_loss: 0.0016\n",
      "Epoch 9/25\n",
      "25/25 [==============================] - 30s 1s/step - loss: 0.0058 - val_loss: 0.0015\n",
      "Epoch 10/25\n",
      "25/25 [==============================] - 31s 1s/step - loss: 0.0070 - val_loss: 0.0033\n",
      "Epoch 11/25\n",
      "25/25 [==============================] - 31s 1s/step - loss: 0.0053 - val_loss: 0.0022\n",
      "Epoch 12/25\n",
      "25/25 [==============================] - 30s 1s/step - loss: 0.0045 - val_loss: 0.0026\n",
      "Epoch 13/25\n",
      "25/25 [==============================] - 28s 1s/step - loss: 0.0055 - val_loss: 0.0072\n",
      "Epoch 14/25\n",
      "25/25 [==============================] - 31s 1s/step - loss: 0.0046 - val_loss: 0.0026\n",
      "Epoch 15/25\n",
      "25/25 [==============================] - 30s 1s/step - loss: 0.0044 - val_loss: 0.0023\n",
      "Epoch 16/25\n",
      "25/25 [==============================] - 32s 1s/step - loss: 0.0043 - val_loss: 0.0014\n",
      "Epoch 17/25\n",
      "25/25 [==============================] - 34s 1s/step - loss: 0.0044 - val_loss: 0.0015\n",
      "Epoch 18/25\n",
      "25/25 [==============================] - 29s 1s/step - loss: 0.0046 - val_loss: 0.0027\n",
      "Epoch 19/25\n",
      "25/25 [==============================] - 32s 1s/step - loss: 0.0041 - val_loss: 0.0028\n",
      "Epoch 20/25\n",
      "25/25 [==============================] - 36s 1s/step - loss: 0.0039 - val_loss: 0.0014\n",
      "Epoch 21/25\n",
      "25/25 [==============================] - 30s 1s/step - loss: 0.0042 - val_loss: 0.0025\n",
      "Epoch 22/25\n",
      "25/25 [==============================] - 29s 1s/step - loss: 0.0045 - val_loss: 0.0016\n",
      "Epoch 23/25\n",
      "25/25 [==============================] - 36s 1s/step - loss: 0.0040 - val_loss: 0.0011\n",
      "Epoch 24/25\n",
      "25/25 [==============================] - 32s 1s/step - loss: 0.0037 - val_loss: 0.0014\n",
      "Epoch 25/25\n",
      "25/25 [==============================] - 24s 963ms/step - loss: 0.0041 - val_loss: 0.0016\n"
     ]
    }
   ],
   "source": [
    "model = Sequential()\n",
    "\n",
    "model.add(LSTM(units =128, activation='relu', return_sequences=True, input_shape = (x_train.shape[1],1)))\n",
    "model.add(Dropout(0.2))\n",
    "model.add(LSTM(units =128, activation='relu', return_sequences=True))\n",
    "model.add(Dropout(0.2))\n",
    "model.add(LSTM(units =128, activation='relu', return_sequences=False))\n",
    "model.add(Dropout(0.2))\n",
    "model.add(Dense(units=1)) # Prediction of the next value\n",
    "\n",
    "model.compile(optimizer='adam', loss='mean_squared_error')\n",
    "model.summary()\n",
    "\n",
    "history = model.fit(x_train, y_train, epochs = 25, batch_size=32, validation_split=0.2)"
   ]
  },
  {
   "cell_type": "code",
   "execution_count": 172,
   "id": "b1fc1bd5-fd2b-4b2c-a419-8b6960f3c692",
   "metadata": {},
   "outputs": [
    {
     "data": {
      "image/png": "[encoded data removed]",
      "text/plain": [
       "<Figure size 432x288 with 1 Axes>"
      ]
     },
     "metadata": {
      "needs_background": "light"
     },
     "output_type": "display_data"
    }
   ],
   "source": [
    "loss = history.history['loss']\n",
    "val_loss = history.history['val_loss']\n",
    "\n",
    "epochs= range(1,26)\n",
    "\n",
    "plt.plot(epochs, loss, 'bo', label='Training loss')\n",
    "plt.plot(epochs, val_loss, 'b', label='Validation loss',color='orange')\n",
    "plt.title('Training and validation loss')\n",
    "plt.legend()\n",
    "\n",
    "plt.show()"
   ]
  },
  {
   "cell_type": "markdown",
   "id": "6acdb518-b52e-4e78-a27e-6e79bed31a89",
   "metadata": {},
   "source": [
    "*The plot shows that the training operation becomes stable after the second epoch time.*"
   ]
  },
  {
   "cell_type": "markdown",
   "id": "9564b2ff-cf37-4a90-9d9c-47a2f4002eca",
   "metadata": {},
   "source": [
    "* Prediction"
   ]
  },
  {
   "cell_type": "code",
   "execution_count": 175,
   "id": "e3ff0216-462f-4eb0-9447-5db7801e89a0",
   "metadata": {},
   "outputs": [
    {
     "name": "stdout",
     "output_type": "stream",
     "text": [
      "[[9.054631]\n",
      " [9.055218]\n",
      " [9.055434]\n",
      " [9.055318]\n",
      " [9.05496 ]]\n"
     ]
    }
   ],
   "source": [
    "actual_price = test['lg_price'].values\n",
    "total_price = pd.concat((train['lg_price'], test['lg_price']),axis=0)\n",
    "\n",
    "model_inputs = total_price[len(total_price)-len(test)-prediction_days:].values\n",
    "model_inputs = model_inputs.reshape(-1,1)\n",
    "model_inputs = scaler.transform(model_inputs)\n",
    "\n",
    "\n",
    "# Make Predictions on Test Data\n",
    "x_test = []\n",
    "\n",
    "for x in range(prediction_days, len(model_inputs)):\n",
    "    x_test.append(model_inputs[x-prediction_days:x, 0])\n",
    "\n",
    "x_test = np.array(x_test)\n",
    "x_test = np.reshape(x_test, (x_test.shape[0], x_test.shape[1], 1))\n",
    "\n",
    "# Predicting the values for lg_price\n",
    "pred = model.predict(x_test)\n",
    "pred = scaler.inverse_transform(pred)\n",
    "print(pred[:5]) # Printing lg_price for the next 5 day to check if the values make sense"
   ]
  },
  {
   "cell_type": "code",
   "execution_count": 277,
   "id": "1bdf3198-0f2b-4053-b2a1-c0db41318742",
   "metadata": {},
   "outputs": [
    {
     "data": {
      "text/plain": [
       "[<matplotlib.lines.Line2D at 0x29c3a0372e0>]"
      ]
     },
     "execution_count": 277,
     "metadata": {},
     "output_type": "execute_result"
    },
    {
     "data": {
      "image/png": "[encoded data removed]",
      "text/plain": [
       "<Figure size 432x288 with 1 Axes>"
      ]
     },
     "metadata": {
      "needs_background": "light"
     },
     "output_type": "display_data"
    }
   ],
   "source": [
    "original_test=model1.iloc[-323:,0]\n",
    "plt.plot(test.index, pred, label='Predicted')\n",
    "plt.plot(test.index, original_test, label='Real',color='orange')"
   ]
  },
  {
   "cell_type": "markdown",
   "id": "5cc85574-ad67-4bfb-81d0-503307bea06a",
   "metadata": {},
   "source": [
    "*Therefore, in this case, LSTM leads to slightly undervalued predictions.*"
   ]
  },
  {
   "cell_type": "code",
   "execution_count": 176,
   "id": "da7a52f3-780f-4020-905c-618a2a569709",
   "metadata": {},
   "outputs": [
    {
     "name": "stdout",
     "output_type": "stream",
     "text": [
      "Mean Square Error:  0.0005746332921705514\n",
      "Root Mean Square Error:  0.02397151001022988\n",
      "sMAPE:  2460.6545727679904\n",
      "R^2 score:  0.9178999316746457\n"
     ]
    }
   ],
   "source": [
    "# 1. MSE - Mean Squared Error\n",
    "MSE2 = np.square(np.subtract(actual_temp,pred)).mean() \n",
    "print(\"Mean Square Error: \", MSE)\n",
    "\n",
    "# 2. RMSE - Root Mean Square Error\n",
    "RMSE2 = math.sqrt(MSE2)\n",
    "print(\"Root Mean Square Error: \", RMSE)\n",
    "\n",
    "# 3. sMAPE - symmetric Mean Absolute Percentage Error\n",
    "def smape(a, f):\n",
    "    return 1/len(a) * np.sum(2 * np.abs(f-a) / (np.abs(a) + np.abs(f))*100)\n",
    "sMAPE2=smape(actual_temp,pred)\n",
    "print('sMAPE: ',sMAPE2)\n",
    "\n",
    "# 4. R^2 score\n",
    "r2_score2 = metrics.r2_score(actual_temp,pred)\n",
    "print('R^2 score: ',r2_score2)"
   ]
  },
  {
   "cell_type": "code",
   "execution_count": 177,
   "id": "ddf4dfcb-a03d-4e9d-bedf-626a79c2ed60",
   "metadata": {},
   "outputs": [
    {
     "data": {
      "text/html": [
       "<div>\n",
       "<style scoped>\n",
       "    .dataframe tbody tr th:only-of-type {\n",
       "        vertical-align: middle;\n",
       "    }\n",
       "\n",
       "    .dataframe tbody tr th {\n",
       "        vertical-align: top;\n",
       "    }\n",
       "\n",
       "    .dataframe thead th {\n",
       "        text-align: right;\n",
       "    }\n",
       "</style>\n",
       "<table border=\"1\" class=\"dataframe\">\n",
       "  <thead>\n",
       "    <tr style=\"text-align: right;\">\n",
       "      <th></th>\n",
       "      <th>Model</th>\n",
       "      <th>MSE</th>\n",
       "      <th>RMSE</th>\n",
       "      <th>sMAPE</th>\n",
       "      <th>R^2 score</th>\n",
       "    </tr>\n",
       "  </thead>\n",
       "  <tbody>\n",
       "    <tr>\n",
       "      <th>0</th>\n",
       "      <td>Linear Regression</td>\n",
       "      <td>0.000575</td>\n",
       "      <td>0.023972</td>\n",
       "      <td>0.158741</td>\n",
       "      <td>0.999234</td>\n",
       "    </tr>\n",
       "    <tr>\n",
       "      <th>1</th>\n",
       "      <td>LSTM</td>\n",
       "      <td>0.894677</td>\n",
       "      <td>0.945874</td>\n",
       "      <td>2460.654573</td>\n",
       "      <td>0.917900</td>\n",
       "    </tr>\n",
       "  </tbody>\n",
       "</table>\n",
       "</div>"
      ],
      "text/plain": [
       "               Model       MSE      RMSE        sMAPE  R^2 score\n",
       "0  Linear Regression  0.000575  0.023972     0.158741   0.999234\n",
       "1               LSTM  0.894677  0.945874  2460.654573   0.917900"
      ]
     },
     "execution_count": 177,
     "metadata": {},
     "output_type": "execute_result"
    }
   ],
   "source": [
    "# Defining a dictionary\n",
    "d = {'Model': ['Linear Regression','LSTM'],'MSE': [MSE,MSE2],'RMSE':[RMSE,RMSE2],'sMAPE':[sMAPE,sMAPE2],'R^2 score': [r2_score,r2_score2]}\n",
    "\n",
    "# Creating a dataframe to compare the evaluation metrics results of the 2 models\n",
    "pd.DataFrame(d, index=[0,1])"
   ]
  },
  {
   "cell_type": "markdown",
   "id": "33efe7e2-932f-4b87-ad1e-5be1ffb0b79e",
   "metadata": {},
   "source": [
    "### 3.3 - SHAP applied on LSTM"
   ]
  },
  {
   "cell_type": "markdown",
   "id": "3a877ba1-900e-46ae-809b-c92da8fc0f5d",
   "metadata": {},
   "source": [
    "**(A) Variable Importance Plot — Global Interpretability**"
   ]
  },
  {
   "cell_type": "code",
   "execution_count": 281,
   "id": "d3cec2e1-3bc5-403e-b544-39234227eda1",
   "metadata": {},
   "outputs": [
    {
     "ename": "AttributeError",
     "evalue": "'tuple' object has no attribute 'shape'",
     "output_type": "error",
     "traceback": [
      "\u001b[1;31m---------------------------------------------------------------------------\u001b[0m",
      "\u001b[1;31mAttributeError\u001b[0m                            Traceback (most recent call last)",
      "\u001b[1;32m<ipython-input-281-d9c2baa5f904>\u001b[0m in \u001b[0;36m<module>\u001b[1;34m\u001b[0m\n\u001b[0;32m      1\u001b[0m \u001b[1;31m# SHAP model explainer\u001b[0m\u001b[1;33m\u001b[0m\u001b[1;33m\u001b[0m\u001b[1;33m\u001b[0m\u001b[0m\n\u001b[0;32m      2\u001b[0m \u001b[0mexplainer\u001b[0m \u001b[1;33m=\u001b[0m \u001b[0mshap\u001b[0m\u001b[1;33m.\u001b[0m\u001b[0mDeepExplainer\u001b[0m\u001b[1;33m(\u001b[0m\u001b[0mmodel\u001b[0m\u001b[1;33m,\u001b[0m \u001b[0mx_train\u001b[0m\u001b[1;33m)\u001b[0m\u001b[1;33m\u001b[0m\u001b[1;33m\u001b[0m\u001b[0m\n\u001b[1;32m----> 3\u001b[1;33m \u001b[0mshap_value\u001b[0m \u001b[1;33m=\u001b[0m \u001b[0mexplainer\u001b[0m\u001b[1;33m.\u001b[0m\u001b[0mshap_values\u001b[0m\u001b[1;33m(\u001b[0m\u001b[0mx_test\u001b[0m\u001b[1;33m)\u001b[0m\u001b[1;33m\u001b[0m\u001b[1;33m\u001b[0m\u001b[0m\n\u001b[0m\u001b[0;32m      4\u001b[0m \u001b[0mshap_val\u001b[0m \u001b[1;33m=\u001b[0m \u001b[0mnp\u001b[0m\u001b[1;33m.\u001b[0m\u001b[0marray\u001b[0m\u001b[1;33m(\u001b[0m\u001b[0mshap_value\u001b[0m\u001b[1;33m)\u001b[0m\u001b[1;33m\u001b[0m\u001b[1;33m\u001b[0m\u001b[0m\n",
      "\u001b[1;32m~\\anaconda3\\lib\\site-packages\\shap\\explainers\\_deep\\__init__.py\u001b[0m in \u001b[0;36mshap_values\u001b[1;34m(self, X, ranked_outputs, output_rank_order, check_additivity)\u001b[0m\n\u001b[0;32m    122\u001b[0m             \u001b[0mwere\u001b[0m \u001b[0mchosen\u001b[0m \u001b[1;32mas\u001b[0m \u001b[1;34m\"top\"\u001b[0m\u001b[1;33m.\u001b[0m\u001b[1;33m\u001b[0m\u001b[1;33m\u001b[0m\u001b[0m\n\u001b[0;32m    123\u001b[0m         \"\"\"\n\u001b[1;32m--> 124\u001b[1;33m         \u001b[1;32mreturn\u001b[0m \u001b[0mself\u001b[0m\u001b[1;33m.\u001b[0m\u001b[0mexplainer\u001b[0m\u001b[1;33m.\u001b[0m\u001b[0mshap_values\u001b[0m\u001b[1;33m(\u001b[0m\u001b[0mX\u001b[0m\u001b[1;33m,\u001b[0m \u001b[0mranked_outputs\u001b[0m\u001b[1;33m,\u001b[0m \u001b[0moutput_rank_order\u001b[0m\u001b[1;33m,\u001b[0m \u001b[0mcheck_additivity\u001b[0m\u001b[1;33m=\u001b[0m\u001b[0mcheck_additivity\u001b[0m\u001b[1;33m)\u001b[0m\u001b[1;33m\u001b[0m\u001b[1;33m\u001b[0m\u001b[0m\n\u001b[0m",
      "\u001b[1;32m~\\anaconda3\\lib\\site-packages\\shap\\explainers\\_deep\\deep_tf.py\u001b[0m in \u001b[0;36mshap_values\u001b[1;34m(self, X, ranked_outputs, output_rank_order, check_additivity)\u001b[0m\n\u001b[0;32m    286\u001b[0m             \u001b[0mmodel_output_ranks\u001b[0m \u001b[1;33m=\u001b[0m \u001b[0mmodel_output_ranks\u001b[0m\u001b[1;33m[\u001b[0m\u001b[1;33m:\u001b[0m\u001b[1;33m,\u001b[0m\u001b[1;33m:\u001b[0m\u001b[0mranked_outputs\u001b[0m\u001b[1;33m]\u001b[0m\u001b[1;33m\u001b[0m\u001b[1;33m\u001b[0m\u001b[0m\n\u001b[0;32m    287\u001b[0m         \u001b[1;32melse\u001b[0m\u001b[1;33m:\u001b[0m\u001b[1;33m\u001b[0m\u001b[1;33m\u001b[0m\u001b[0m\n\u001b[1;32m--> 288\u001b[1;33m             \u001b[0mmodel_output_ranks\u001b[0m \u001b[1;33m=\u001b[0m \u001b[0mnp\u001b[0m\u001b[1;33m.\u001b[0m\u001b[0mtile\u001b[0m\u001b[1;33m(\u001b[0m\u001b[0mnp\u001b[0m\u001b[1;33m.\u001b[0m\u001b[0marange\u001b[0m\u001b[1;33m(\u001b[0m\u001b[0mlen\u001b[0m\u001b[1;33m(\u001b[0m\u001b[0mself\u001b[0m\u001b[1;33m.\u001b[0m\u001b[0mphi_symbolics\u001b[0m\u001b[1;33m)\u001b[0m\u001b[1;33m)\u001b[0m\u001b[1;33m,\u001b[0m \u001b[1;33m(\u001b[0m\u001b[0mX\u001b[0m\u001b[1;33m[\u001b[0m\u001b[1;36m0\u001b[0m\u001b[1;33m]\u001b[0m\u001b[1;33m.\u001b[0m\u001b[0mshape\u001b[0m\u001b[1;33m[\u001b[0m\u001b[1;36m0\u001b[0m\u001b[1;33m]\u001b[0m\u001b[1;33m,\u001b[0m \u001b[1;36m1\u001b[0m\u001b[1;33m)\u001b[0m\u001b[1;33m)\u001b[0m\u001b[1;33m\u001b[0m\u001b[1;33m\u001b[0m\u001b[0m\n\u001b[0m\u001b[0;32m    289\u001b[0m \u001b[1;33m\u001b[0m\u001b[0m\n\u001b[0;32m    290\u001b[0m         \u001b[1;31m# compute the attributions\u001b[0m\u001b[1;33m\u001b[0m\u001b[1;33m\u001b[0m\u001b[1;33m\u001b[0m\u001b[0m\n",
      "\u001b[1;31mAttributeError\u001b[0m: 'tuple' object has no attribute 'shape'"
     ]
    }
   ],
   "source": [
    "# SHAP model explainer\n",
    "explainer = shap.DeepExplainer(model, x_train)\n",
    "shap_value = explainer.shap_values(x_test)\n",
    "shap_val = np.array(shap_value)"
   ]
  },
  {
   "cell_type": "code",
   "execution_count": 278,
   "id": "993bceb1-b2af-49be-9666-67042c983886",
   "metadata": {},
   "outputs": [
    {
     "ename": "TypeError",
     "evalue": "'numpy.ndarray' object is not callable",
     "output_type": "error",
     "traceback": [
      "\u001b[1;31m---------------------------------------------------------------------------\u001b[0m",
      "\u001b[1;31mTypeError\u001b[0m                                 Traceback (most recent call last)",
      "\u001b[1;32m<ipython-input-278-24aacc134f55>\u001b[0m in \u001b[0;36m<module>\u001b[1;34m\u001b[0m\n\u001b[0;32m      1\u001b[0m \u001b[0mexplainer\u001b[0m \u001b[1;33m=\u001b[0m \u001b[0mshap\u001b[0m\u001b[1;33m.\u001b[0m\u001b[0mexplainers\u001b[0m\u001b[1;33m.\u001b[0m\u001b[0mPermutation\u001b[0m\u001b[1;33m(\u001b[0m\u001b[0mmodel\u001b[0m\u001b[1;33m,\u001b[0m \u001b[0mx_train\u001b[0m\u001b[1;33m,\u001b[0m\u001b[0mmax_evals\u001b[0m \u001b[1;33m=\u001b[0m \u001b[1;36m647\u001b[0m\u001b[1;33m)\u001b[0m\u001b[1;33m\u001b[0m\u001b[1;33m\u001b[0m\u001b[0m\n\u001b[1;32m----> 2\u001b[1;33m \u001b[0mshap_values\u001b[0m \u001b[1;33m=\u001b[0m \u001b[0mexplainer\u001b[0m\u001b[1;33m(\u001b[0m\u001b[0mx_test\u001b[0m\u001b[1;33m)\u001b[0m\u001b[1;33m\u001b[0m\u001b[1;33m\u001b[0m\u001b[0m\n\u001b[0m",
      "\u001b[1;32m~\\anaconda3\\lib\\site-packages\\shap\\explainers\\_permutation.py\u001b[0m in \u001b[0;36m__call__\u001b[1;34m(self, max_evals, main_effects, error_bounds, batch_size, outputs, silent, *args)\u001b[0m\n\u001b[0;32m     66\u001b[0m                 def __call__(self, *args, max_evals=500, main_effects=False, error_bounds=False, batch_size=\"auto\",\n\u001b[0;32m     67\u001b[0m                              outputs=None, silent=False):\n\u001b[1;32m---> 68\u001b[1;33m                     return super().__call__(\n\u001b[0m\u001b[0;32m     69\u001b[0m                         \u001b[1;33m*\u001b[0m\u001b[0margs\u001b[0m\u001b[1;33m,\u001b[0m \u001b[0mmax_evals\u001b[0m\u001b[1;33m=\u001b[0m\u001b[0mmax_evals\u001b[0m\u001b[1;33m,\u001b[0m \u001b[0mmain_effects\u001b[0m\u001b[1;33m=\u001b[0m\u001b[0mmain_effects\u001b[0m\u001b[1;33m,\u001b[0m \u001b[0merror_bounds\u001b[0m\u001b[1;33m=\u001b[0m\u001b[0merror_bounds\u001b[0m\u001b[1;33m,\u001b[0m\u001b[1;33m\u001b[0m\u001b[1;33m\u001b[0m\u001b[0m\n\u001b[0;32m     70\u001b[0m                         \u001b[0mbatch_size\u001b[0m\u001b[1;33m=\u001b[0m\u001b[0mbatch_size\u001b[0m\u001b[1;33m,\u001b[0m \u001b[0moutputs\u001b[0m\u001b[1;33m=\u001b[0m\u001b[0moutputs\u001b[0m\u001b[1;33m,\u001b[0m \u001b[0msilent\u001b[0m\u001b[1;33m=\u001b[0m\u001b[0msilent\u001b[0m\u001b[1;33m\u001b[0m\u001b[1;33m\u001b[0m\u001b[0m\n",
      "\u001b[1;32m~\\anaconda3\\lib\\site-packages\\shap\\explainers\\_permutation.py\u001b[0m in \u001b[0;36m__call__\u001b[1;34m(self, max_evals, main_effects, error_bounds, batch_size, outputs, silent, *args)\u001b[0m\n\u001b[0;32m     80\u001b[0m         \"\"\" Explain the output of the model on the given arguments.\n\u001b[0;32m     81\u001b[0m         \"\"\"\n\u001b[1;32m---> 82\u001b[1;33m         return super().__call__(\n\u001b[0m\u001b[0;32m     83\u001b[0m             \u001b[1;33m*\u001b[0m\u001b[0margs\u001b[0m\u001b[1;33m,\u001b[0m \u001b[0mmax_evals\u001b[0m\u001b[1;33m=\u001b[0m\u001b[0mmax_evals\u001b[0m\u001b[1;33m,\u001b[0m \u001b[0mmain_effects\u001b[0m\u001b[1;33m=\u001b[0m\u001b[0mmain_effects\u001b[0m\u001b[1;33m,\u001b[0m \u001b[0merror_bounds\u001b[0m\u001b[1;33m=\u001b[0m\u001b[0merror_bounds\u001b[0m\u001b[1;33m,\u001b[0m \u001b[0mbatch_size\u001b[0m\u001b[1;33m=\u001b[0m\u001b[0mbatch_size\u001b[0m\u001b[1;33m,\u001b[0m\u001b[1;33m\u001b[0m\u001b[1;33m\u001b[0m\u001b[0m\n\u001b[0;32m     84\u001b[0m             \u001b[0moutputs\u001b[0m\u001b[1;33m=\u001b[0m\u001b[0moutputs\u001b[0m\u001b[1;33m,\u001b[0m \u001b[0msilent\u001b[0m\u001b[1;33m=\u001b[0m\u001b[0msilent\u001b[0m\u001b[1;33m\u001b[0m\u001b[1;33m\u001b[0m\u001b[0m\n",
      "\u001b[1;32m~\\anaconda3\\lib\\site-packages\\shap\\explainers\\_explainer.py\u001b[0m in \u001b[0;36m__call__\u001b[1;34m(self, max_evals, main_effects, error_bounds, batch_size, outputs, silent, *args, **kwargs)\u001b[0m\n\u001b[0;32m    264\u001b[0m             \u001b[0mfeature_names\u001b[0m \u001b[1;33m=\u001b[0m \u001b[1;33m[\u001b[0m\u001b[1;33m[\u001b[0m\u001b[1;33m]\u001b[0m \u001b[1;32mfor\u001b[0m \u001b[0m_\u001b[0m \u001b[1;32min\u001b[0m \u001b[0mrange\u001b[0m\u001b[1;33m(\u001b[0m\u001b[0mlen\u001b[0m\u001b[1;33m(\u001b[0m\u001b[0margs\u001b[0m\u001b[1;33m)\u001b[0m\u001b[1;33m)\u001b[0m\u001b[1;33m]\u001b[0m\u001b[1;33m\u001b[0m\u001b[1;33m\u001b[0m\u001b[0m\n\u001b[0;32m    265\u001b[0m         \u001b[1;32mfor\u001b[0m \u001b[0mrow_args\u001b[0m \u001b[1;32min\u001b[0m \u001b[0mshow_progress\u001b[0m\u001b[1;33m(\u001b[0m\u001b[0mzip\u001b[0m\u001b[1;33m(\u001b[0m\u001b[1;33m*\u001b[0m\u001b[0margs\u001b[0m\u001b[1;33m)\u001b[0m\u001b[1;33m,\u001b[0m \u001b[0mnum_rows\u001b[0m\u001b[1;33m,\u001b[0m \u001b[0mself\u001b[0m\u001b[1;33m.\u001b[0m\u001b[0m__class__\u001b[0m\u001b[1;33m.\u001b[0m\u001b[0m__name__\u001b[0m\u001b[1;33m+\u001b[0m\u001b[1;34m\" explainer\"\u001b[0m\u001b[1;33m,\u001b[0m \u001b[0msilent\u001b[0m\u001b[1;33m)\u001b[0m\u001b[1;33m:\u001b[0m\u001b[1;33m\u001b[0m\u001b[1;33m\u001b[0m\u001b[0m\n\u001b[1;32m--> 266\u001b[1;33m             row_result = self.explain_row(\n\u001b[0m\u001b[0;32m    267\u001b[0m                 \u001b[1;33m*\u001b[0m\u001b[0mrow_args\u001b[0m\u001b[1;33m,\u001b[0m \u001b[0mmax_evals\u001b[0m\u001b[1;33m=\u001b[0m\u001b[0mmax_evals\u001b[0m\u001b[1;33m,\u001b[0m \u001b[0mmain_effects\u001b[0m\u001b[1;33m=\u001b[0m\u001b[0mmain_effects\u001b[0m\u001b[1;33m,\u001b[0m \u001b[0merror_bounds\u001b[0m\u001b[1;33m=\u001b[0m\u001b[0merror_bounds\u001b[0m\u001b[1;33m,\u001b[0m\u001b[1;33m\u001b[0m\u001b[1;33m\u001b[0m\u001b[0m\n\u001b[0;32m    268\u001b[0m                 \u001b[0mbatch_size\u001b[0m\u001b[1;33m=\u001b[0m\u001b[0mbatch_size\u001b[0m\u001b[1;33m,\u001b[0m \u001b[0moutputs\u001b[0m\u001b[1;33m=\u001b[0m\u001b[0moutputs\u001b[0m\u001b[1;33m,\u001b[0m \u001b[0msilent\u001b[0m\u001b[1;33m=\u001b[0m\u001b[0msilent\u001b[0m\u001b[1;33m,\u001b[0m \u001b[1;33m**\u001b[0m\u001b[0mkwargs\u001b[0m\u001b[1;33m\u001b[0m\u001b[1;33m\u001b[0m\u001b[0m\n",
      "\u001b[1;32m~\\anaconda3\\lib\\site-packages\\shap\\explainers\\_permutation.py\u001b[0m in \u001b[0;36mexplain_row\u001b[1;34m(self, max_evals, main_effects, error_bounds, batch_size, outputs, silent, *row_args)\u001b[0m\n\u001b[0;32m    138\u001b[0m \u001b[1;33m\u001b[0m\u001b[0m\n\u001b[0;32m    139\u001b[0m                 \u001b[1;31m# evaluate the masked model\u001b[0m\u001b[1;33m\u001b[0m\u001b[1;33m\u001b[0m\u001b[1;33m\u001b[0m\u001b[0m\n\u001b[1;32m--> 140\u001b[1;33m                 \u001b[0moutputs\u001b[0m \u001b[1;33m=\u001b[0m \u001b[0mfm\u001b[0m\u001b[1;33m(\u001b[0m\u001b[0mmasks\u001b[0m\u001b[1;33m,\u001b[0m \u001b[0mzero_index\u001b[0m\u001b[1;33m=\u001b[0m\u001b[1;36m0\u001b[0m\u001b[1;33m,\u001b[0m \u001b[0mbatch_size\u001b[0m\u001b[1;33m=\u001b[0m\u001b[0mbatch_size\u001b[0m\u001b[1;33m)\u001b[0m\u001b[1;33m\u001b[0m\u001b[1;33m\u001b[0m\u001b[0m\n\u001b[0m\u001b[0;32m    141\u001b[0m \u001b[1;33m\u001b[0m\u001b[0m\n\u001b[0;32m    142\u001b[0m                 \u001b[1;32mif\u001b[0m \u001b[0mrow_values\u001b[0m \u001b[1;32mis\u001b[0m \u001b[1;32mNone\u001b[0m\u001b[1;33m:\u001b[0m\u001b[1;33m\u001b[0m\u001b[1;33m\u001b[0m\u001b[0m\n",
      "\u001b[1;32m~\\anaconda3\\lib\\site-packages\\shap\\utils\\_masked_model.py\u001b[0m in \u001b[0;36m__call__\u001b[1;34m(self, masks, zero_index, batch_size)\u001b[0m\n\u001b[0;32m     62\u001b[0m                 \u001b[0mfull_masks\u001b[0m \u001b[1;33m=\u001b[0m \u001b[0mnp\u001b[0m\u001b[1;33m.\u001b[0m\u001b[0mzeros\u001b[0m\u001b[1;33m(\u001b[0m\u001b[1;33m(\u001b[0m\u001b[0mint\u001b[0m\u001b[1;33m(\u001b[0m\u001b[0mnp\u001b[0m\u001b[1;33m.\u001b[0m\u001b[0msum\u001b[0m\u001b[1;33m(\u001b[0m\u001b[0mmasks\u001b[0m \u001b[1;33m>=\u001b[0m \u001b[1;36m0\u001b[0m\u001b[1;33m)\u001b[0m\u001b[1;33m)\u001b[0m\u001b[1;33m,\u001b[0m \u001b[0mself\u001b[0m\u001b[1;33m.\u001b[0m\u001b[0m_masker_cols\u001b[0m\u001b[1;33m)\u001b[0m\u001b[1;33m,\u001b[0m \u001b[0mdtype\u001b[0m\u001b[1;33m=\u001b[0m\u001b[0mnp\u001b[0m\u001b[1;33m.\u001b[0m\u001b[0mbool\u001b[0m\u001b[1;33m)\u001b[0m\u001b[1;33m\u001b[0m\u001b[1;33m\u001b[0m\u001b[0m\n\u001b[0;32m     63\u001b[0m                 \u001b[0m_convert_delta_mask_to_full\u001b[0m\u001b[1;33m(\u001b[0m\u001b[0mmasks\u001b[0m\u001b[1;33m,\u001b[0m \u001b[0mfull_masks\u001b[0m\u001b[1;33m)\u001b[0m\u001b[1;33m\u001b[0m\u001b[1;33m\u001b[0m\u001b[0m\n\u001b[1;32m---> 64\u001b[1;33m                 \u001b[1;32mreturn\u001b[0m \u001b[0mself\u001b[0m\u001b[1;33m.\u001b[0m\u001b[0m_full_masking_call\u001b[0m\u001b[1;33m(\u001b[0m\u001b[0mfull_masks\u001b[0m\u001b[1;33m,\u001b[0m \u001b[0mzero_index\u001b[0m\u001b[1;33m=\u001b[0m\u001b[0mzero_index\u001b[0m\u001b[1;33m,\u001b[0m \u001b[0mbatch_size\u001b[0m\u001b[1;33m=\u001b[0m\u001b[0mbatch_size\u001b[0m\u001b[1;33m)\u001b[0m\u001b[1;33m\u001b[0m\u001b[1;33m\u001b[0m\u001b[0m\n\u001b[0m\u001b[0;32m     65\u001b[0m \u001b[1;33m\u001b[0m\u001b[0m\n\u001b[0;32m     66\u001b[0m         \u001b[1;32melse\u001b[0m\u001b[1;33m:\u001b[0m\u001b[1;33m\u001b[0m\u001b[1;33m\u001b[0m\u001b[0m\n",
      "\u001b[1;32m~\\anaconda3\\lib\\site-packages\\shap\\utils\\_masked_model.py\u001b[0m in \u001b[0;36m_full_masking_call\u001b[1;34m(self, masks, zero_index, batch_size)\u001b[0m\n\u001b[0;32m     91\u001b[0m                     \u001b[0mmasked_inputs\u001b[0m \u001b[1;33m=\u001b[0m \u001b[0mself\u001b[0m\u001b[1;33m.\u001b[0m\u001b[0mmasker\u001b[0m\u001b[1;33m(\u001b[0m\u001b[0mdelta_ind\u001b[0m\u001b[1;33m,\u001b[0m \u001b[1;33m*\u001b[0m\u001b[0mself\u001b[0m\u001b[1;33m.\u001b[0m\u001b[0margs\u001b[0m\u001b[1;33m)\u001b[0m\u001b[1;33m.\u001b[0m\u001b[0mcopy\u001b[0m\u001b[1;33m(\u001b[0m\u001b[1;33m)\u001b[0m\u001b[1;33m\u001b[0m\u001b[1;33m\u001b[0m\u001b[0m\n\u001b[0;32m     92\u001b[0m                 \u001b[1;32melse\u001b[0m\u001b[1;33m:\u001b[0m\u001b[1;33m\u001b[0m\u001b[1;33m\u001b[0m\u001b[0m\n\u001b[1;32m---> 93\u001b[1;33m                     \u001b[0mmasked_inputs\u001b[0m \u001b[1;33m=\u001b[0m \u001b[0mself\u001b[0m\u001b[1;33m.\u001b[0m\u001b[0mmasker\u001b[0m\u001b[1;33m(\u001b[0m\u001b[0mmask\u001b[0m\u001b[1;33m,\u001b[0m \u001b[1;33m*\u001b[0m\u001b[0mself\u001b[0m\u001b[1;33m.\u001b[0m\u001b[0margs\u001b[0m\u001b[1;33m)\u001b[0m\u001b[1;33m\u001b[0m\u001b[1;33m\u001b[0m\u001b[0m\n\u001b[0m\u001b[0;32m     94\u001b[0m \u001b[1;33m\u001b[0m\u001b[0m\n\u001b[0;32m     95\u001b[0m                 \u001b[1;31m# get a copy that won't get overwritten by the next iteration\u001b[0m\u001b[1;33m\u001b[0m\u001b[1;33m\u001b[0m\u001b[1;33m\u001b[0m\u001b[0m\n",
      "\u001b[1;31mTypeError\u001b[0m: 'numpy.ndarray' object is not callable"
     ]
    }
   ],
   "source": [
    "explainer = shap.explainers.Permutation(model, x_train,max_evals = 647)\n",
    "shap_values = explainer(x_test)"
   ]
  },
  {
   "cell_type": "raw",
   "id": "4a3bcf70-c2d2-42cf-a15d-bace98d0477d",
   "metadata": {},
   "source": []
  }
 ],
 "metadata": {
  "kernelspec": {
   "display_name": "Python 3",
   "language": "python",
   "name": "python3"
  },
  "language_info": {
   "codemirror_mode": {
    "name": "ipython",
    "version": 3
   },
   "file_extension": ".py",
   "mimetype": "text/x-python",
   "name": "python",
   "nbconvert_exporter": "python",
   "pygments_lexer": "ipython3",
   "version": "3.8.8"
  }
 },
 "nbformat": 4,
 "nbformat_minor": 5
}
